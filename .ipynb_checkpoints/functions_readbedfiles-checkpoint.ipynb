{
 "cells": [
  {
   "cell_type": "code",
   "execution_count": null,
   "metadata": {},
   "outputs": [],
   "source": [
    "# !pip install --user import_ipynb"
   ]
  },
  {
   "cell_type": "code",
   "execution_count": 1,
   "metadata": {},
   "outputs": [
    {
     "name": "stdout",
     "output_type": "stream",
     "text": [
      "Importing Jupyter notebook from functions_ailist.ipynb\n"
     ]
    }
   ],
   "source": [
    "import json\n",
    "import glob\n",
    "import pandas as pd \n",
    "from multiprocessing import Pool\n",
    "import nbimporter\n",
    "from importlib import reload\n",
    "import import_ipynb\n",
    "import functions_ailist\n",
    "import os\n",
    "import json\n",
    "import datetime"
   ]
  },
  {
   "cell_type": "markdown",
   "metadata": {},
   "source": [
    "# Reading Files-multiprocessing"
   ]
  },
  {
   "cell_type": "code",
   "execution_count": 2,
   "metadata": {},
   "outputs": [],
   "source": [
    "def reader(listofPar):\n",
    "    filename = listofPar[0]\n",
    "    nofiles = listofPar[1]\n",
    "    segmentation_df = listofPar[2]\n",
    "    universefile = listofPar[3]\n",
    "    PATH = listofPar[4]\n",
    "    return functions_ailist.ailist_vectorize(filename, nofiles, segmentation_df, universefile, PATH)\n"
   ]
  },
  {
   "cell_type": "code",
   "execution_count": 1,
   "metadata": {},
   "outputs": [],
   "source": [
    "def readFiles2Vector(path_bed_files, universeFile_path, numberofCores = 4, numOfFiles= 100, PATH = ''):\n",
    "    term_doc_matrix_all = {}\n",
    "    segmentation_dfs = {}\n",
    "    term_doc_matrix = {}\n",
    "\n",
    "    file_list = []\n",
    "    df_list = []\n",
    "    term_doc_matrix = {}\n",
    "\n",
    "\n",
    "    segmentation_df = pd.read_csv(universeFile_path, sep='\\t', names=[\"chrom\", \"start\", \"end\"])\n",
    "    segmentation_df['word'] = segmentation_df['chrom'] + '_' + segmentation_df['start'].astype(str) + '_' + segmentation_df['end'].astype(str)\n",
    "\n",
    "    print('Reading universe file: Done', datetime.datetime.now())\n",
    "\n",
    "    pool = Pool(numberofCores)\n",
    "\n",
    "    file_list = sorted(glob.glob(path_bed_files))\n",
    "\n",
    "    listOfparameters = [file_list, [numOfFiles] * len(file_list), [segmentation_df]* len(file_list), [universeFile_path] * len(file_list), \\\n",
    "                       [PATH] * len(file_list)]\n",
    "\n",
    "\n",
    "    #creates a list of vectors\n",
    "    df_list = pool.map(reader, list(map(list, zip(*listOfparameters))))# (file_list, numOfFiles, segmentation_df))\n",
    "\n",
    "    print('Reading bed files: Done', datetime.datetime.now())\n",
    "\n",
    "    for i in range (0,len(file_list)):\n",
    "\n",
    "        file2 = file_list[i].split('/')[-1].replace('.05.bed','').lower()\n",
    "        if(sum(df_list[i])>0):\n",
    "            term_doc_matrix[file2] = df_list[i]\n",
    "            \n",
    "    print('Converting to matrix: Done', datetime.datetime.now())\n",
    "    \n",
    "    pool.close()\n",
    "    return term_doc_matrix, segmentation_df#, file_list\n"
   ]
  },
  {
   "cell_type": "code",
   "execution_count": 13,
   "metadata": {},
   "outputs": [],
   "source": [
    "def convertMat2document(term_doc_matrix, df_seg):\n",
    "    documents = {}\n",
    "    for file in term_doc_matrix.keys():\n",
    "        index = [index for index, value in enumerate(term_doc_matrix[file]) if value == 1]\n",
    "        doc = ' '.join(df_seg.iloc[index]['word'])\n",
    "        documents[file] = doc\n",
    "    return documents\n",
    "    "
   ]
  },
  {
   "cell_type": "code",
   "execution_count": 14,
   "metadata": {},
   "outputs": [],
   "source": [
    "def writeJsonFile(term_doc_matrix, filename = \"term_doc_matrix_bg.json\"):\n",
    "    json1 = json.dumps(term_doc_matrix)\n",
    "    f = open(filename, \"w\")\n",
    "    f.write(json1)\n",
    "    f.close()"
   ]
  },
  {
   "cell_type": "code",
   "execution_count": 15,
   "metadata": {},
   "outputs": [],
   "source": [
    "def readJsonFile(filename='term_doc_matrix_bg.json'):\n",
    "    with open(filename, 'r') as j:\n",
    "         term_doc_matrix = json.loads(j.read())\n",
    "    return term_doc_matrix"
   ]
  },
  {
   "cell_type": "code",
   "execution_count": null,
   "metadata": {},
   "outputs": [],
   "source": []
  },
  {
   "cell_type": "code",
   "execution_count": null,
   "metadata": {},
   "outputs": [],
   "source": []
  }
 ],
 "metadata": {
  "kernelspec": {
   "display_name": "Python 3",
   "language": "python",
   "name": "python3"
  },
  "language_info": {
   "codemirror_mode": {
    "name": "ipython",
    "version": 3
   },
   "file_extension": ".py",
   "mimetype": "text/x-python",
   "name": "python",
   "nbconvert_exporter": "python",
   "pygments_lexer": "ipython3",
   "version": "3.7.3"
  }
 },
 "nbformat": 4,
 "nbformat_minor": 4
}
