{
 "cells": [
  {
   "cell_type": "code",
   "execution_count": 3,
   "metadata": {},
   "outputs": [],
   "source": [
    "from gensim.models import Word2Vec\n",
    "import json\n",
    "import nbimporter\n",
    "import random\n",
    "import functions_readbedfiles\n",
    "import numpy as np"
   ]
  },
  {
   "cell_type": "markdown",
   "metadata": {},
   "source": [
    "# Shuffling the documents"
   ]
  },
  {
   "cell_type": "code",
   "execution_count": 4,
   "metadata": {},
   "outputs": [],
   "source": [
    "def shuffling(document_universe, shuffle_repeat):\n",
    "    common_text = [value.split(' ')  for key, value in document_universe.items()]\n",
    "    training_samples = []\n",
    "    training_samples.extend(common_text)\n",
    "\n",
    "    for rn in range(shuffle_repeat):\n",
    "        [(random.shuffle(l)) for l in common_text]\n",
    "        training_samples.extend(common_text)\n",
    "    return training_samples\n",
    "    "
   ]
  },
  {
   "cell_type": "markdown",
   "metadata": {},
   "source": [
    "# Train Word2Vec model"
   ]
  },
  {
   "cell_type": "code",
   "execution_count": 5,
   "metadata": {},
   "outputs": [],
   "source": [
    "def trainWord2Vec(path_bed_files, universeFile_path, numberofCores, numberofFiles, shuffle_repeat, window_size, dim, min_count):\n",
    "    # Read bed files \n",
    "    term_doc_matrix, segmentation_df = functions_readbedfiles.readFiles2Vector(path_bed_files, universeFile_path, numberofCores, numberofFiles)\n",
    "\n",
    "    # convert term-doc matrix to Corpus\n",
    "    documents = functions_readbedfiles.convertMat2document(term_doc_matrix, segmentation_df)\n",
    "    print(len(documents))\n",
    "    # Shuffle documents for training\n",
    "    shuffeled_documents = shuffling(documents, shuffle_repeat)\n",
    "#     print((shuffeled_documents[0]))\n",
    "    # Train word2Vec model\n",
    "    model = Word2Vec(shuffeled_documents, window_size, dim, min_count)\n",
    "    \n",
    "    return model\n"
   ]
  },
  {
   "cell_type": "markdown",
   "metadata": {},
   "source": [
    "# RegionSet2vec Representation"
   ]
  },
  {
   "cell_type": "code",
   "execution_count": 6,
   "metadata": {},
   "outputs": [],
   "source": [
    "def embedding_avg(model, document):\n",
    "    listOfWVs= []\n",
    "    for word in document.split(' '):\n",
    "        if word in model.wv.vocab:\n",
    "            listOfWVs.append(model[word])\n",
    "            \n",
    "    if(len(listOfWVs) == 0):\n",
    "#         print('hi')\n",
    "        return np.zeros([100])\n",
    "    return np.mean(listOfWVs, axis=0)\n",
    "\n",
    "def document_embedding_avg(document_Embedding, model):\n",
    "    document_Embedding_avg = {}\n",
    "    for file, doc  in document_Embedding.items():\n",
    "        document_Embedding_avg[file] = embedding_avg(model, doc)\n",
    "    return document_Embedding_avg\n",
    "    "
   ]
  },
  {
   "cell_type": "code",
   "execution_count": 7,
   "metadata": {},
   "outputs": [],
   "source": [
    "# Data path\n",
    "path_bed_files = \"./bedfiles/*\"\n",
    "\n",
    "# Universe path\n",
    "universeFile_path = \"./representations/antibody/antibody_feature_1.0_atlas.bed\""
   ]
  },
  {
   "cell_type": "code",
   "execution_count": 8,
   "metadata": {},
   "outputs": [],
   "source": [
    "# Parameters \n",
    "numberofCores = 4\n",
    "numberofFiles = 1\n",
    "window_size = 8\n",
    "dim = 10\n",
    "min_count = 100\n",
    "shuffle_repeat = 100"
   ]
  },
  {
   "cell_type": "code",
   "execution_count": 9,
   "metadata": {},
   "outputs": [
    {
     "ename": "NameError",
     "evalue": "name 'Functions_ReadBedFiles' is not defined",
     "output_type": "error",
     "traceback": [
      "\u001b[0;31m---------------------------------------------------------------------------\u001b[0m",
      "\u001b[0;31mNameError\u001b[0m                                 Traceback (most recent call last)",
      "\u001b[0;32m<ipython-input-9-3fea8a36c8d5>\u001b[0m in \u001b[0;36m<module>\u001b[0;34m\u001b[0m\n\u001b[0;32m----> 1\u001b[0;31m \u001b[0mmodel\u001b[0m \u001b[0;34m=\u001b[0m \u001b[0mtrainWord2Vec\u001b[0m\u001b[0;34m(\u001b[0m\u001b[0mpath_bed_files\u001b[0m\u001b[0;34m,\u001b[0m \u001b[0muniverseFile_path\u001b[0m\u001b[0;34m,\u001b[0m \u001b[0mnumberofCores\u001b[0m\u001b[0;34m,\u001b[0m \u001b[0mnumberofFiles\u001b[0m\u001b[0;34m,\u001b[0m \u001b[0mshuffle_repeat\u001b[0m\u001b[0;34m,\u001b[0m \u001b[0mwindow_size\u001b[0m\u001b[0;34m,\u001b[0m \u001b[0mdim\u001b[0m\u001b[0;34m,\u001b[0m \u001b[0mmin_count\u001b[0m\u001b[0;34m)\u001b[0m\u001b[0;34m\u001b[0m\u001b[0;34m\u001b[0m\u001b[0m\n\u001b[0m",
      "\u001b[0;32m<ipython-input-5-b1238655159e>\u001b[0m in \u001b[0;36mtrainWord2Vec\u001b[0;34m(path_bed_files, universeFile_path, numberofCores, numberofFiles, shuffle_repeat, window_size, dim, min_count)\u001b[0m\n\u001b[1;32m      1\u001b[0m \u001b[0;32mdef\u001b[0m \u001b[0mtrainWord2Vec\u001b[0m\u001b[0;34m(\u001b[0m\u001b[0mpath_bed_files\u001b[0m\u001b[0;34m,\u001b[0m \u001b[0muniverseFile_path\u001b[0m\u001b[0;34m,\u001b[0m \u001b[0mnumberofCores\u001b[0m\u001b[0;34m,\u001b[0m \u001b[0mnumberofFiles\u001b[0m\u001b[0;34m,\u001b[0m \u001b[0mshuffle_repeat\u001b[0m\u001b[0;34m,\u001b[0m \u001b[0mwindow_size\u001b[0m\u001b[0;34m,\u001b[0m \u001b[0mdim\u001b[0m\u001b[0;34m,\u001b[0m \u001b[0mmin_count\u001b[0m\u001b[0;34m)\u001b[0m\u001b[0;34m:\u001b[0m\u001b[0;34m\u001b[0m\u001b[0;34m\u001b[0m\u001b[0m\n\u001b[1;32m      2\u001b[0m     \u001b[0;31m# Read bed files\u001b[0m\u001b[0;34m\u001b[0m\u001b[0;34m\u001b[0m\u001b[0;34m\u001b[0m\u001b[0m\n\u001b[0;32m----> 3\u001b[0;31m     \u001b[0mterm_doc_matrix\u001b[0m\u001b[0;34m,\u001b[0m \u001b[0msegmentation_df\u001b[0m \u001b[0;34m=\u001b[0m \u001b[0mFunctions_ReadBedFiles\u001b[0m\u001b[0;34m.\u001b[0m\u001b[0mreadFiles2Vector\u001b[0m\u001b[0;34m(\u001b[0m\u001b[0mpath_bed_files\u001b[0m\u001b[0;34m,\u001b[0m \u001b[0muniverseFile_path\u001b[0m\u001b[0;34m,\u001b[0m \u001b[0mnumberofCores\u001b[0m\u001b[0;34m,\u001b[0m \u001b[0mnumberofFiles\u001b[0m\u001b[0;34m)\u001b[0m\u001b[0;34m\u001b[0m\u001b[0;34m\u001b[0m\u001b[0m\n\u001b[0m\u001b[1;32m      4\u001b[0m \u001b[0;34m\u001b[0m\u001b[0m\n\u001b[1;32m      5\u001b[0m     \u001b[0;31m# convert term-doc matrix to Corpus\u001b[0m\u001b[0;34m\u001b[0m\u001b[0;34m\u001b[0m\u001b[0;34m\u001b[0m\u001b[0m\n",
      "\u001b[0;31mNameError\u001b[0m: name 'Functions_ReadBedFiles' is not defined"
     ]
    }
   ],
   "source": [
    "model = trainWord2Vec(path_bed_files, universeFile_path, numberofCores, numberofFiles, shuffle_repeat, window_size, dim, min_count)"
   ]
  },
  {
   "cell_type": "code",
   "execution_count": 13,
   "metadata": {},
   "outputs": [
    {
     "ename": "NameError",
     "evalue": "name 'model' is not defined",
     "output_type": "error",
     "traceback": [
      "\u001b[0;31m---------------------------------------------------------------------------\u001b[0m",
      "\u001b[0;31mNameError\u001b[0m                                 Traceback (most recent call last)",
      "\u001b[0;32m<ipython-input-13-d470a968a8e0>\u001b[0m in \u001b[0;36m<module>\u001b[0;34m\u001b[0m\n\u001b[0;32m----> 1\u001b[0;31m \u001b[0mmodel\u001b[0m\u001b[0;34m.\u001b[0m\u001b[0msave\u001b[0m\u001b[0;34m(\u001b[0m\u001b[0;34m'./Region_embedding_models/model_window{}_size{}_mincount{}_shuffle{}'\u001b[0m\u001b[0;34m.\u001b[0m\u001b[0mformat\u001b[0m\u001b[0;34m(\u001b[0m\u001b[0mwindow_size\u001b[0m\u001b[0;34m,\u001b[0m \u001b[0mdim\u001b[0m\u001b[0;34m,\u001b[0m \u001b[0mmin_count\u001b[0m\u001b[0;34m,\u001b[0m \u001b[0mshuffle_repeat\u001b[0m\u001b[0;34m)\u001b[0m\u001b[0;34m)\u001b[0m\u001b[0;34m\u001b[0m\u001b[0;34m\u001b[0m\u001b[0m\n\u001b[0m",
      "\u001b[0;31mNameError\u001b[0m: name 'model' is not defined"
     ]
    }
   ],
   "source": [
    "model.save('./Region_embedding_models/model_window{}_size{}_mincount{}_shuffle{}'.format(window_size, dim, min_count, shuffle_repeat))"
   ]
  },
  {
   "cell_type": "code",
   "execution_count": null,
   "metadata": {},
   "outputs": [],
   "source": []
  }
 ],
 "metadata": {
  "kernelspec": {
   "display_name": "Python 3",
   "language": "python",
   "name": "python3"
  },
  "language_info": {
   "codemirror_mode": {
    "name": "ipython",
    "version": 3
   },
   "file_extension": ".py",
   "mimetype": "text/x-python",
   "name": "python",
   "nbconvert_exporter": "python",
   "pygments_lexer": "ipython3",
   "version": "3.7.3"
  }
 },
 "nbformat": 4,
 "nbformat_minor": 4
}
