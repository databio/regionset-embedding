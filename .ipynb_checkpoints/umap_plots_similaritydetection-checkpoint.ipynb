{
 "cells": [
  {
   "cell_type": "code",
   "execution_count": 1,
   "metadata": {},
   "outputs": [],
   "source": [
    "import matplotlib\n",
    "matplotlib.rcParams[\"svg.fonttype\"] = \"none\"\n",
    "matplotlib.rcParams[\"text.usetex\"] = False"
   ]
  },
  {
   "cell_type": "code",
   "execution_count": 2,
   "metadata": {},
   "outputs": [],
   "source": [
    "from gensim.models import Word2Vec\n",
    "import json\n"
   ]
  },
  {
   "cell_type": "code",
   "execution_count": 3,
   "metadata": {},
   "outputs": [],
   "source": [
    "#!pip install import_ipynb"
   ]
  },
  {
   "cell_type": "code",
   "execution_count": 4,
   "metadata": {},
   "outputs": [
    {
     "name": "stdout",
     "output_type": "stream",
     "text": [
      "Importing Jupyter notebook from functions_readbedfiles.ipynb\n",
      "Importing Jupyter notebook from functions_ailist.ipynb\n"
     ]
    }
   ],
   "source": [
    "# from imfunctoolstlib import reload\n",
    "import nbimporter\n",
    "from collections import Counter\n",
    "from functions_readbedfiles import readJsonFile, readFiles2Vector, writeJsonFile, convertMat2document, readJsonFile\n",
    "import glob\n",
    "import pandas as pd\n",
    "import numpy as np\n",
    "import time\n",
    "import copy\n",
    "import gc\n",
    "import os\n",
    "from sklearn.decomposition import PCA\n"
   ]
  },
  {
   "cell_type": "code",
   "execution_count": 5,
   "metadata": {},
   "outputs": [],
   "source": [
    "#!pip install umap"
   ]
  },
  {
   "cell_type": "code",
   "execution_count": 6,
   "metadata": {},
   "outputs": [
    {
     "ename": "ModuleNotFoundError",
     "evalue": "No module named 'umap.plot'",
     "output_type": "error",
     "traceback": [
      "\u001b[0;31m---------------------------------------------------------------------------\u001b[0m",
      "\u001b[0;31mModuleNotFoundError\u001b[0m                       Traceback (most recent call last)",
      "\u001b[0;32m<ipython-input-6-b113909220cb>\u001b[0m in \u001b[0;36m<module>\u001b[0;34m\u001b[0m\n\u001b[1;32m     10\u001b[0m \u001b[0;32mimport\u001b[0m \u001b[0mcolorsys\u001b[0m\u001b[0;34m\u001b[0m\u001b[0;34m\u001b[0m\u001b[0m\n\u001b[1;32m     11\u001b[0m \u001b[0;32mfrom\u001b[0m \u001b[0moperator\u001b[0m \u001b[0;32mimport\u001b[0m \u001b[0mitemgetter\u001b[0m\u001b[0;34m\u001b[0m\u001b[0;34m\u001b[0m\u001b[0m\n\u001b[0;32m---> 12\u001b[0;31m \u001b[0;32mimport\u001b[0m \u001b[0mumap\u001b[0m\u001b[0;34m.\u001b[0m\u001b[0mplot\u001b[0m\u001b[0;34m\u001b[0m\u001b[0;34m\u001b[0m\u001b[0m\n\u001b[0m",
      "\u001b[0;31mModuleNotFoundError\u001b[0m: No module named 'umap.plot'"
     ]
    }
   ],
   "source": [
    "import datetime \n",
    "import matplotlib.pyplot as plt\n",
    "import seaborn as sns\n",
    "import matplotlib.font_manager as font_manager\n",
    "import shutil\n",
    "from os import walk\n",
    "import plotly_express as px \n",
    "import umap\n",
    "\n",
    "import colorsys\n",
    "from operator import itemgetter \n",
    "import umap.plot"
   ]
  },
  {
   "cell_type": "code",
   "execution_count": null,
   "metadata": {},
   "outputs": [],
   "source": [
    "# !pip install umap-learn[plotting]"
   ]
  },
  {
   "cell_type": "markdown",
   "metadata": {},
   "source": [
    "# Read data"
   ]
  },
  {
   "cell_type": "code",
   "execution_count": null,
   "metadata": {},
   "outputs": [],
   "source": [
    "def labels(y_train):\n",
    "    y_train_y  = []\n",
    "    for y in y_train:\n",
    "#         print(y[-1])\n",
    "        if('rx' in y):\n",
    "            y_train_y.append('original file')\n",
    "            continue\n",
    "\n",
    "        y_name = y.split('_')[-1].split('.')[0]\n",
    "        if(y_name[-1]!= '0'):\n",
    "            y_name=y_name+'0'\n",
    "#             print(y_name)\n",
    "        y_train_y.append(y_name.replace('rate', '') +' percent')\n",
    "    return y_train_y\n"
   ]
  },
  {
   "cell_type": "code",
   "execution_count": 7,
   "metadata": {},
   "outputs": [
    {
     "name": "stdout",
     "output_type": "stream",
     "text": [
      "CPU times: user 3 µs, sys: 1 µs, total: 4 µs\n",
      "Wall time: 6.91 µs\n"
     ]
    }
   ],
   "source": [
    "%%time\n",
    "\n",
    "def plotting(X_train, y_train_y, file_name, plottitle):\n",
    "    print(len(X_train), len(y_train_y))\n",
    "    tsnefig_umap = UMAP_plot(X_train, y_train_y, '', nn =100, filename = file_name, plottitle=typ)\n",
    "\n",
    "#     tsnefig_umap.savefig((file_name), format='png', bbox_inches='tight')\n",
    "    "
   ]
  },
  {
   "cell_type": "code",
   "execution_count": 8,
   "metadata": {},
   "outputs": [],
   "source": [
    "\n",
    "def UMAP_plot(data_X, y, title, nn, filename, plottitle):\n",
    "    ftnsize = 20\n",
    "    dp = 300\n",
    "    fontname = 'Times New Roman'\n",
    "    markers =  {\"srx026068\": \"^\", 'srx2614876': \"^\", 'original file': \"^\", \"add1\": \"o\", \"add2\": \"o\", \"add3\": \"o\", \"add4\": \"o\", \"add5\": \"o\", \"add6\": \"o\",\n",
    "               \"add7\": \"o\", \"add8\": \"o\",\n",
    "              \"add9\": \"o\", 'shift4': \"o\", 'shift8': \"o\", 'shift1': \"o\", 'shift6': \"o\", 'shift2': \"o\", \n",
    "               'shift7': \"o\", 'shift5': \"o\", 'shift9': \"o\", 'shift3': \"o\",\n",
    "              'drop1': \"o\", 'drop4': \"o\", 'drop9': \"o\", 'drop5': \"o\", 'drop8': \"o\", 'drop2': \"o\", \n",
    "               'drop7': \"o\", 'drop6': \"o\", 'drop3': \"o\",\n",
    "              'rate1': \"o\", 'rate4': \"o\", 'rate9': \"o\", 'rate5': \"o\", 'rate8': \"o\", 'rate2': \"o\", \n",
    "               'rate7': \"o\", 'rate6': \"o\", 'rate3': \"o\",\n",
    "              'rate10': \"o\", 'rate40': \"o\", 'rate90': \"o\", 'rate50': \"o\", 'rate80': \"o\", 'rate20': \"o\", \n",
    "               'rate70': \"o\", 'rate60': \"o\", 'rate30': \"o\",\n",
    "               \"add10\": \"o\", \"add20\": \"o\", \"add30\": \"o\", \"add40\": \"o\", \"add50\": \"o\", \"add60\": \"o\",\n",
    "               \"add70\": \"o\", \"add80\": \"o\",\n",
    "              \"add90\": \"o\", 'shift40': \"o\", 'shift80': \"o\", 'shift10': \"o\", 'shift60': \"o\", 'shift20': \"o\", \n",
    "               'shift70': \"o\", 'shift50': \"o\", 'shift90': \"o\", 'shift30': \"o\",\n",
    "              'drop10': \"o\", 'drop40': \"o\", 'drop90': \"o\", 'drop50': \"o\", 'drop80': \"o\", 'drop20': \"o\", \n",
    "               'drop70': \"o\", 'drop60': \"o\", 'drop30': \"o\",\n",
    "               '10 percent': \"o\", '40 percent': \"o\", '90 percent': \"o\", '50 percent': \"o\", '80 percent': \"o\", '20 percent': \"o\", \n",
    "               '70 percent': \"o\", '60 percent': \"o\", '30 percent': \"o\"}\n",
    "    \n",
    "    font = font_manager.FontProperties(family='Times New Roman',\n",
    "                                   weight='bold',\n",
    "                                   style='normal', size=100)\n",
    "    \n",
    "    ump = umap.UMAP(a=None, angular_rp_forest=False, b=None,\n",
    "     force_approximation_algorithm=False, init='spectral', learning_rate=1.0,\n",
    "     local_connectivity=1.0, low_memory=False, metric='euclidean',\n",
    "     metric_kwds=None, min_dist=0.1, n_components=2, n_epochs=3000,\n",
    "     n_neighbors=nn, negative_sample_rate=5, output_metric='euclidean',\n",
    "     output_metric_kwds=None, random_state=42, repulsion_strength=1.0,\n",
    "     set_op_mix_ratio=1.0, spread=1.0, target_metric='categorical',\n",
    "     target_metric_kwds=None, target_n_neighbors=-1, target_weight=0.5,\n",
    "     transform_queue_size=4.0, transform_seed=42, unique=False, verbose=False)\n",
    "    \n",
    "    ump.fit(data_X) \n",
    "    ump_data = pd.DataFrame(ump.transform(data_X)) \n",
    "\n",
    "\n",
    "    ump_data = pd.DataFrame({'UMAP 1':ump_data[0],\n",
    "                            'UMAP 2':ump_data[1],\n",
    "                            title:y})\n",
    "    \n",
    "\n",
    "    fig, ax = plt.subplots(figsize=(6,6))\n",
    "#     plt.fig(figsize=(40, 25))\n",
    "#     plate = sns.color_palette(\"coolwarm\", n_colors=len(set(y)))\n",
    "\n",
    "\n",
    "    plate = sns.color_palette(\"BuGn_r\", n_colors= 10)\n",
    "    # plate= sns.light_palette((210, 90, 60), input=\"husl\", n_colors= 100)\n",
    "    plate.reverse()\n",
    "    originalFileColor = 'black'\n",
    "\n",
    "#     index = [200, 300, 400, 500, 600, 700, 800, 900, 1000, 1099]\n",
    "#     plate = list(itemgetter(*index)(plate))\n",
    "\n",
    "\n",
    "    sns.scatterplot(x=\"UMAP 1\", y=\"UMAP 2\",\n",
    "                  hue=title,\n",
    "                         style=title,\n",
    "                    s= 60,\n",
    "                         palette = plate[0:-1],# sns.color_palette('coolwarm', n_colors=len(set(y))), \n",
    "    #                          prop=font,\n",
    "                         legend=None,\n",
    "                    edgecolor='black',\n",
    "                    linewidth=0.2,\n",
    "                         markers= markers,\n",
    "    #                 sizes=(100, 900),\n",
    "                  data=ump_data[ump_data[title] != 'original file'].sort_values(by = title), rasterized=True)\n",
    "    #     print(ump_data[ump_data[title] == 'original file'].sort_values(by = title)[0:-1])\n",
    "    sns.scatterplot(x=\"UMAP 1\", y=\"UMAP 2\",\n",
    "                         style=title,\n",
    "                        s= 300,\n",
    "                         color = originalFileColor,\n",
    "                         markers= markers,\n",
    "                        legend=None,\n",
    "                    edgecolor='white',\n",
    "                    linewidth=1,\n",
    "    #                 sizes=(100, 900),\n",
    "                  data=ump_data[ump_data[title] == 'original file'].tail(1)\n",
    "                   , rasterized=True)\n",
    "\n",
    "    ax.axis('off')\n",
    "\n",
    "\n",
    "\n",
    "    fig.savefig('./UMAP_plots_SimilarityDetectionTask/'+filename, format = 'svg', dpi = dp)\n",
    "\n",
    "\n",
    "    sns.scatterplot(x=\"UMAP 1\", y=\"UMAP 2\",\n",
    "                  hue=title,\n",
    "                         style=title,\n",
    "                    s= 60,\n",
    "                         palette = plate[0:-1],# sns.color_palette('coolwarm', n_colors=len(set(y))), \n",
    "    #                          prop=font,\n",
    "#                          legend=None,\n",
    "                    edgecolor='black',\n",
    "                    linewidth=0.2,\n",
    "                         markers= markers,\n",
    "    #                 sizes=(100, 900),\n",
    "                  data=ump_data[ump_data[title] != 'original file'].sort_values(by = title), rasterized=True)\n",
    "    #     print(ump_data[ump_data[title] == 'original file'].sort_values(by = title)[0:-1])\n",
    "    sns.scatterplot(x=\"UMAP 1\", y=\"UMAP 2\",\n",
    "                         style=title,\n",
    "                        s= 300,\n",
    "                         color = originalFileColor,\n",
    "                         markers= markers,\n",
    "#                         legend=None,\n",
    "                    edgecolor='white',\n",
    "                    linewidth=1,\n",
    "    #                 sizes=(100, 900),\n",
    "                  data=ump_data[ump_data[title] == 'original file'].tail(1)\n",
    "                   , rasterized=True)\n",
    "\n",
    "#     plt.legend(prop=font, markerscale=10)\n",
    "    \n",
    "    handles, labels = ax.get_legend_handles_labels()\n",
    "    lgd = plt.legend(handles, labels, loc='upper center', bbox_to_anchor=(0.5,-0.1), fontsize =  ftnsize, markerscale=3)\n",
    "    text = plt.text(-0.2,1.05, \"\", transform=ax.transAxes)\n",
    "\n",
    "    fig.savefig('./UMAP_plots_SimilarityDetectionTask/legend_'+filename, bbox_extra_artists=(lgd, text), bbox_inches='tight', format = 'svg', dpi = dp)\n",
    "\n",
    "    return fig"
   ]
  },
  {
   "cell_type": "code",
   "execution_count": 9,
   "metadata": {},
   "outputs": [],
   "source": [
    "def embedding_avg(model, document):\n",
    "    listOfWVs= []\n",
    "    for word in document.split(' '):\n",
    "        if word in model.wv.vocab:\n",
    "            listOfWVs.append(model[word])\n",
    "            \n",
    "    if(len(listOfWVs) == 0):\n",
    "#         print('hi')\n",
    "        return np.zeros([100])\n",
    "    return np.mean(listOfWVs, axis=0)\n",
    "\n",
    "def document_embedding_avg(document_Embedding, model):\n",
    "    document_Embedding_avg = {}\n",
    "    for file, doc  in document_Embedding.items():\n",
    "        document_Embedding_avg[file] = embedding_avg(model, doc)\n",
    "    return document_Embedding_avg\n",
    "    "
   ]
  },
  {
   "cell_type": "code",
   "execution_count": 10,
   "metadata": {},
   "outputs": [],
   "source": [
    "def create_data4T_SNE(tdMatrix):\n",
    "    tdMatrix =  {k.lower(): v for k, v in tdMatrix.items()}\n",
    "    commonFiles = list(set(tdMatrix.keys())) \n",
    "\n",
    "    data_X = []\n",
    "    y = []\n",
    "    for name in commonFiles:\n",
    "        y_1 = name\n",
    "        if(1==1):\n",
    "            data_X.append(tdMatrix[name])\n",
    "            y.append(y_1)\n",
    "    \n",
    "    return np.array(data_X), y"
   ]
  },
  {
   "cell_type": "code",
   "execution_count": 11,
   "metadata": {},
   "outputs": [],
   "source": [
    "bedshiftType = ['add', 'shift', 'drop', 'rate']"
   ]
  },
  {
   "cell_type": "code",
   "execution_count": 12,
   "metadata": {},
   "outputs": [],
   "source": [
    "typ = bedshiftType[3]\n",
    "clas_type = 'antibody'\n",
    "filename = 'SRX026068.05.bed' #'SRX026068.05.bed' # 'SRX2614876.05.bed'\n"
   ]
  },
  {
   "cell_type": "code",
   "execution_count": 19,
   "metadata": {},
   "outputs": [],
   "source": [
    "path_bedShift = './datasets/bedshiftdataset/*'#.format(clas_type, filename, typ)"
   ]
  },
  {
   "cell_type": "code",
   "execution_count": 20,
   "metadata": {},
   "outputs": [],
   "source": [
    "\n",
    "path_universe = './representations/{}/'.format(clas_type)\n",
    "path_output = './umap_plots_similaritydetection/'"
   ]
  },
  {
   "cell_type": "code",
   "execution_count": 21,
   "metadata": {},
   "outputs": [],
   "source": [
    "#!pip install numpy --upgrade"
   ]
  },
  {
   "cell_type": "code",
   "execution_count": 22,
   "metadata": {},
   "outputs": [],
   "source": [
    "model = Word2Vec.load(\"./word2vecmodels/word2vec_antibody.model\")#.format(clas_type))\n"
   ]
  },
  {
   "cell_type": "code",
   "execution_count": 23,
   "metadata": {},
   "outputs": [
    {
     "name": "stdout",
     "output_type": "stream",
     "text": [
      "./representations/antibody/antibody_universe.bed\n",
      "Reading universe file: Done 2020-10-20 01:36:32.751713\n",
      "hi\n",
      "['./datasets/bedshiftdataset/SRX026068.rate.bed', './datasets/bedshiftdataset/rep100_rate10.bed', './datasets/bedshiftdataset/rep100_rate20.bed', './datasets/bedshiftdataset/rep100_rate30.bed', './datasets/bedshiftdataset/rep100_rate40.bed', './datasets/bedshiftdataset/rep100_rate50.bed', './datasets/bedshiftdataset/rep100_rate60.bed', './datasets/bedshiftdataset/rep100_rate70.bed', './datasets/bedshiftdataset/rep100_rate80.bed', './datasets/bedshiftdataset/rep100_rate90.bed', './datasets/bedshiftdataset/rep10_rate10.bed', './datasets/bedshiftdataset/rep10_rate20.bed', './datasets/bedshiftdataset/rep10_rate30.bed', './datasets/bedshiftdataset/rep10_rate40.bed', './datasets/bedshiftdataset/rep10_rate50.bed', './datasets/bedshiftdataset/rep10_rate60.bed', './datasets/bedshiftdataset/rep10_rate70.bed', './datasets/bedshiftdataset/rep10_rate80.bed', './datasets/bedshiftdataset/rep10_rate90.bed', './datasets/bedshiftdataset/rep11_rate10.bed', './datasets/bedshiftdataset/rep11_rate20.bed', './datasets/bedshiftdataset/rep11_rate30.bed', './datasets/bedshiftdataset/rep11_rate40.bed', './datasets/bedshiftdataset/rep11_rate50.bed', './datasets/bedshiftdataset/rep11_rate60.bed', './datasets/bedshiftdataset/rep11_rate70.bed', './datasets/bedshiftdataset/rep11_rate80.bed', './datasets/bedshiftdataset/rep11_rate90.bed', './datasets/bedshiftdataset/rep12_rate10.bed', './datasets/bedshiftdataset/rep12_rate20.bed', './datasets/bedshiftdataset/rep12_rate30.bed', './datasets/bedshiftdataset/rep12_rate40.bed', './datasets/bedshiftdataset/rep12_rate50.bed', './datasets/bedshiftdataset/rep12_rate60.bed', './datasets/bedshiftdataset/rep12_rate70.bed', './datasets/bedshiftdataset/rep12_rate80.bed', './datasets/bedshiftdataset/rep12_rate90.bed', './datasets/bedshiftdataset/rep13_rate10.bed', './datasets/bedshiftdataset/rep13_rate20.bed', './datasets/bedshiftdataset/rep13_rate30.bed', './datasets/bedshiftdataset/rep13_rate40.bed', './datasets/bedshiftdataset/rep13_rate50.bed', './datasets/bedshiftdataset/rep13_rate60.bed', './datasets/bedshiftdataset/rep13_rate70.bed', './datasets/bedshiftdataset/rep13_rate80.bed', './datasets/bedshiftdataset/rep13_rate90.bed', './datasets/bedshiftdataset/rep14_rate10.bed', './datasets/bedshiftdataset/rep14_rate20.bed', './datasets/bedshiftdataset/rep14_rate30.bed', './datasets/bedshiftdataset/rep14_rate40.bed', './datasets/bedshiftdataset/rep14_rate50.bed', './datasets/bedshiftdataset/rep14_rate60.bed', './datasets/bedshiftdataset/rep14_rate70.bed', './datasets/bedshiftdataset/rep14_rate80.bed', './datasets/bedshiftdataset/rep14_rate90.bed', './datasets/bedshiftdataset/rep15_rate10.bed', './datasets/bedshiftdataset/rep15_rate20.bed', './datasets/bedshiftdataset/rep15_rate30.bed', './datasets/bedshiftdataset/rep15_rate40.bed', './datasets/bedshiftdataset/rep15_rate50.bed', './datasets/bedshiftdataset/rep15_rate60.bed', './datasets/bedshiftdataset/rep15_rate70.bed', './datasets/bedshiftdataset/rep15_rate80.bed', './datasets/bedshiftdataset/rep15_rate90.bed', './datasets/bedshiftdataset/rep16_rate10.bed', './datasets/bedshiftdataset/rep16_rate20.bed', './datasets/bedshiftdataset/rep16_rate30.bed', './datasets/bedshiftdataset/rep16_rate40.bed', './datasets/bedshiftdataset/rep16_rate50.bed', './datasets/bedshiftdataset/rep16_rate60.bed', './datasets/bedshiftdataset/rep16_rate70.bed', './datasets/bedshiftdataset/rep16_rate80.bed', './datasets/bedshiftdataset/rep16_rate90.bed', './datasets/bedshiftdataset/rep17_rate10.bed', './datasets/bedshiftdataset/rep17_rate20.bed', './datasets/bedshiftdataset/rep17_rate30.bed', './datasets/bedshiftdataset/rep17_rate40.bed', './datasets/bedshiftdataset/rep17_rate50.bed', './datasets/bedshiftdataset/rep17_rate60.bed', './datasets/bedshiftdataset/rep17_rate70.bed', './datasets/bedshiftdataset/rep17_rate80.bed', './datasets/bedshiftdataset/rep17_rate90.bed', './datasets/bedshiftdataset/rep18_rate10.bed', './datasets/bedshiftdataset/rep18_rate20.bed', './datasets/bedshiftdataset/rep18_rate30.bed', './datasets/bedshiftdataset/rep18_rate40.bed', './datasets/bedshiftdataset/rep18_rate50.bed', './datasets/bedshiftdataset/rep18_rate60.bed', './datasets/bedshiftdataset/rep18_rate70.bed', './datasets/bedshiftdataset/rep18_rate80.bed', './datasets/bedshiftdataset/rep18_rate90.bed', './datasets/bedshiftdataset/rep19_rate10.bed', './datasets/bedshiftdataset/rep19_rate20.bed', './datasets/bedshiftdataset/rep19_rate30.bed', './datasets/bedshiftdataset/rep19_rate40.bed', './datasets/bedshiftdataset/rep19_rate50.bed', './datasets/bedshiftdataset/rep19_rate60.bed', './datasets/bedshiftdataset/rep19_rate70.bed', './datasets/bedshiftdataset/rep19_rate80.bed', './datasets/bedshiftdataset/rep19_rate90.bed', './datasets/bedshiftdataset/rep1_rate10.bed', './datasets/bedshiftdataset/rep1_rate20.bed', './datasets/bedshiftdataset/rep1_rate30.bed', './datasets/bedshiftdataset/rep1_rate40.bed', './datasets/bedshiftdataset/rep1_rate50.bed', './datasets/bedshiftdataset/rep1_rate60.bed', './datasets/bedshiftdataset/rep1_rate70.bed', './datasets/bedshiftdataset/rep1_rate80.bed', './datasets/bedshiftdataset/rep1_rate90.bed', './datasets/bedshiftdataset/rep20_rate10.bed', './datasets/bedshiftdataset/rep20_rate20.bed', './datasets/bedshiftdataset/rep20_rate30.bed', './datasets/bedshiftdataset/rep20_rate40.bed', './datasets/bedshiftdataset/rep20_rate50.bed', './datasets/bedshiftdataset/rep20_rate60.bed', './datasets/bedshiftdataset/rep20_rate70.bed', './datasets/bedshiftdataset/rep20_rate80.bed', './datasets/bedshiftdataset/rep20_rate90.bed', './datasets/bedshiftdataset/rep21_rate10.bed', './datasets/bedshiftdataset/rep21_rate20.bed', './datasets/bedshiftdataset/rep21_rate30.bed', './datasets/bedshiftdataset/rep21_rate40.bed', './datasets/bedshiftdataset/rep21_rate50.bed', './datasets/bedshiftdataset/rep21_rate60.bed', './datasets/bedshiftdataset/rep21_rate70.bed', './datasets/bedshiftdataset/rep21_rate80.bed', './datasets/bedshiftdataset/rep21_rate90.bed', './datasets/bedshiftdataset/rep22_rate10.bed', './datasets/bedshiftdataset/rep22_rate20.bed', './datasets/bedshiftdataset/rep22_rate30.bed', './datasets/bedshiftdataset/rep22_rate40.bed', './datasets/bedshiftdataset/rep22_rate50.bed', './datasets/bedshiftdataset/rep22_rate60.bed', './datasets/bedshiftdataset/rep22_rate70.bed', './datasets/bedshiftdataset/rep22_rate80.bed', './datasets/bedshiftdataset/rep22_rate90.bed', './datasets/bedshiftdataset/rep23_rate10.bed', './datasets/bedshiftdataset/rep23_rate20.bed', './datasets/bedshiftdataset/rep23_rate30.bed', './datasets/bedshiftdataset/rep23_rate40.bed', './datasets/bedshiftdataset/rep23_rate50.bed', './datasets/bedshiftdataset/rep23_rate60.bed', './datasets/bedshiftdataset/rep23_rate70.bed', './datasets/bedshiftdataset/rep23_rate80.bed', './datasets/bedshiftdataset/rep23_rate90.bed', './datasets/bedshiftdataset/rep24_rate10.bed', './datasets/bedshiftdataset/rep24_rate20.bed', './datasets/bedshiftdataset/rep24_rate30.bed', './datasets/bedshiftdataset/rep24_rate40.bed', './datasets/bedshiftdataset/rep24_rate50.bed', './datasets/bedshiftdataset/rep24_rate60.bed', './datasets/bedshiftdataset/rep24_rate70.bed', './datasets/bedshiftdataset/rep24_rate80.bed', './datasets/bedshiftdataset/rep24_rate90.bed', './datasets/bedshiftdataset/rep25_rate10.bed', './datasets/bedshiftdataset/rep25_rate20.bed', './datasets/bedshiftdataset/rep25_rate30.bed', './datasets/bedshiftdataset/rep25_rate40.bed', './datasets/bedshiftdataset/rep25_rate50.bed', './datasets/bedshiftdataset/rep25_rate60.bed', './datasets/bedshiftdataset/rep25_rate70.bed', './datasets/bedshiftdataset/rep25_rate80.bed', './datasets/bedshiftdataset/rep25_rate90.bed', './datasets/bedshiftdataset/rep26_rate10.bed', './datasets/bedshiftdataset/rep26_rate20.bed', './datasets/bedshiftdataset/rep26_rate30.bed', './datasets/bedshiftdataset/rep26_rate40.bed', './datasets/bedshiftdataset/rep26_rate50.bed', './datasets/bedshiftdataset/rep26_rate60.bed', './datasets/bedshiftdataset/rep26_rate70.bed', './datasets/bedshiftdataset/rep26_rate80.bed', './datasets/bedshiftdataset/rep26_rate90.bed', './datasets/bedshiftdataset/rep27_rate10.bed', './datasets/bedshiftdataset/rep27_rate20.bed', './datasets/bedshiftdataset/rep27_rate30.bed', './datasets/bedshiftdataset/rep27_rate40.bed', './datasets/bedshiftdataset/rep27_rate50.bed', './datasets/bedshiftdataset/rep27_rate60.bed', './datasets/bedshiftdataset/rep27_rate70.bed', './datasets/bedshiftdataset/rep27_rate80.bed', './datasets/bedshiftdataset/rep27_rate90.bed', './datasets/bedshiftdataset/rep28_rate10.bed', './datasets/bedshiftdataset/rep28_rate20.bed', './datasets/bedshiftdataset/rep28_rate30.bed', './datasets/bedshiftdataset/rep28_rate40.bed', './datasets/bedshiftdataset/rep28_rate50.bed', './datasets/bedshiftdataset/rep28_rate60.bed', './datasets/bedshiftdataset/rep28_rate70.bed', './datasets/bedshiftdataset/rep28_rate80.bed', './datasets/bedshiftdataset/rep28_rate90.bed', './datasets/bedshiftdataset/rep29_rate10.bed', './datasets/bedshiftdataset/rep29_rate20.bed', './datasets/bedshiftdataset/rep29_rate30.bed', './datasets/bedshiftdataset/rep29_rate40.bed', './datasets/bedshiftdataset/rep29_rate50.bed', './datasets/bedshiftdataset/rep29_rate60.bed', './datasets/bedshiftdataset/rep29_rate70.bed', './datasets/bedshiftdataset/rep29_rate80.bed', './datasets/bedshiftdataset/rep29_rate90.bed', './datasets/bedshiftdataset/rep2_rate10.bed', './datasets/bedshiftdataset/rep2_rate20.bed', './datasets/bedshiftdataset/rep2_rate30.bed', './datasets/bedshiftdataset/rep2_rate40.bed', './datasets/bedshiftdataset/rep2_rate50.bed', './datasets/bedshiftdataset/rep2_rate60.bed', './datasets/bedshiftdataset/rep2_rate70.bed', './datasets/bedshiftdataset/rep2_rate80.bed', './datasets/bedshiftdataset/rep2_rate90.bed', './datasets/bedshiftdataset/rep30_rate10.bed', './datasets/bedshiftdataset/rep30_rate20.bed', './datasets/bedshiftdataset/rep30_rate30.bed', './datasets/bedshiftdataset/rep30_rate40.bed', './datasets/bedshiftdataset/rep30_rate50.bed', './datasets/bedshiftdataset/rep30_rate60.bed', './datasets/bedshiftdataset/rep30_rate70.bed', './datasets/bedshiftdataset/rep30_rate80.bed', './datasets/bedshiftdataset/rep30_rate90.bed', './datasets/bedshiftdataset/rep31_rate10.bed', './datasets/bedshiftdataset/rep31_rate20.bed', './datasets/bedshiftdataset/rep31_rate30.bed', './datasets/bedshiftdataset/rep31_rate40.bed', './datasets/bedshiftdataset/rep31_rate50.bed', './datasets/bedshiftdataset/rep31_rate60.bed', './datasets/bedshiftdataset/rep31_rate70.bed', './datasets/bedshiftdataset/rep31_rate80.bed', './datasets/bedshiftdataset/rep31_rate90.bed', './datasets/bedshiftdataset/rep32_rate10.bed', './datasets/bedshiftdataset/rep32_rate20.bed', './datasets/bedshiftdataset/rep32_rate30.bed', './datasets/bedshiftdataset/rep32_rate40.bed', './datasets/bedshiftdataset/rep32_rate50.bed', './datasets/bedshiftdataset/rep32_rate60.bed', './datasets/bedshiftdataset/rep32_rate70.bed', './datasets/bedshiftdataset/rep32_rate80.bed', './datasets/bedshiftdataset/rep32_rate90.bed', './datasets/bedshiftdataset/rep33_rate10.bed', './datasets/bedshiftdataset/rep33_rate20.bed', './datasets/bedshiftdataset/rep33_rate30.bed', './datasets/bedshiftdataset/rep33_rate40.bed', './datasets/bedshiftdataset/rep33_rate50.bed', './datasets/bedshiftdataset/rep33_rate60.bed', './datasets/bedshiftdataset/rep33_rate70.bed', './datasets/bedshiftdataset/rep33_rate80.bed', './datasets/bedshiftdataset/rep33_rate90.bed', './datasets/bedshiftdataset/rep34_rate10.bed', './datasets/bedshiftdataset/rep34_rate20.bed', './datasets/bedshiftdataset/rep34_rate30.bed', './datasets/bedshiftdataset/rep34_rate40.bed', './datasets/bedshiftdataset/rep34_rate50.bed', './datasets/bedshiftdataset/rep34_rate60.bed', './datasets/bedshiftdataset/rep34_rate70.bed', './datasets/bedshiftdataset/rep34_rate80.bed', './datasets/bedshiftdataset/rep34_rate90.bed', './datasets/bedshiftdataset/rep35_rate10.bed', './datasets/bedshiftdataset/rep35_rate20.bed', './datasets/bedshiftdataset/rep35_rate30.bed', './datasets/bedshiftdataset/rep35_rate40.bed', './datasets/bedshiftdataset/rep35_rate50.bed', './datasets/bedshiftdataset/rep35_rate60.bed', './datasets/bedshiftdataset/rep35_rate70.bed', './datasets/bedshiftdataset/rep35_rate80.bed', './datasets/bedshiftdataset/rep35_rate90.bed', './datasets/bedshiftdataset/rep36_rate10.bed', './datasets/bedshiftdataset/rep36_rate20.bed', './datasets/bedshiftdataset/rep36_rate30.bed', './datasets/bedshiftdataset/rep36_rate40.bed', './datasets/bedshiftdataset/rep36_rate50.bed', './datasets/bedshiftdataset/rep36_rate60.bed', './datasets/bedshiftdataset/rep36_rate70.bed', './datasets/bedshiftdataset/rep36_rate80.bed', './datasets/bedshiftdataset/rep36_rate90.bed', './datasets/bedshiftdataset/rep37_rate10.bed', './datasets/bedshiftdataset/rep37_rate20.bed', './datasets/bedshiftdataset/rep37_rate30.bed', './datasets/bedshiftdataset/rep37_rate40.bed', './datasets/bedshiftdataset/rep37_rate50.bed', './datasets/bedshiftdataset/rep37_rate60.bed', './datasets/bedshiftdataset/rep37_rate70.bed', './datasets/bedshiftdataset/rep37_rate80.bed', './datasets/bedshiftdataset/rep37_rate90.bed', './datasets/bedshiftdataset/rep38_rate10.bed', './datasets/bedshiftdataset/rep38_rate20.bed', './datasets/bedshiftdataset/rep38_rate30.bed', './datasets/bedshiftdataset/rep38_rate40.bed', './datasets/bedshiftdataset/rep38_rate50.bed', './datasets/bedshiftdataset/rep38_rate60.bed', './datasets/bedshiftdataset/rep38_rate70.bed', './datasets/bedshiftdataset/rep38_rate80.bed', './datasets/bedshiftdataset/rep38_rate90.bed', './datasets/bedshiftdataset/rep39_rate10.bed', './datasets/bedshiftdataset/rep39_rate20.bed', './datasets/bedshiftdataset/rep39_rate30.bed', './datasets/bedshiftdataset/rep39_rate40.bed', './datasets/bedshiftdataset/rep39_rate50.bed', './datasets/bedshiftdataset/rep39_rate60.bed', './datasets/bedshiftdataset/rep39_rate70.bed', './datasets/bedshiftdataset/rep39_rate80.bed', './datasets/bedshiftdataset/rep39_rate90.bed', './datasets/bedshiftdataset/rep3_rate10.bed', './datasets/bedshiftdataset/rep3_rate20.bed', './datasets/bedshiftdataset/rep3_rate30.bed', './datasets/bedshiftdataset/rep3_rate40.bed', './datasets/bedshiftdataset/rep3_rate50.bed', './datasets/bedshiftdataset/rep3_rate60.bed', './datasets/bedshiftdataset/rep3_rate70.bed', './datasets/bedshiftdataset/rep3_rate80.bed', './datasets/bedshiftdataset/rep3_rate90.bed', './datasets/bedshiftdataset/rep40_rate10.bed', './datasets/bedshiftdataset/rep40_rate20.bed', './datasets/bedshiftdataset/rep40_rate30.bed', './datasets/bedshiftdataset/rep40_rate40.bed', './datasets/bedshiftdataset/rep40_rate50.bed', './datasets/bedshiftdataset/rep40_rate60.bed', './datasets/bedshiftdataset/rep40_rate70.bed', './datasets/bedshiftdataset/rep40_rate80.bed', './datasets/bedshiftdataset/rep40_rate90.bed', './datasets/bedshiftdataset/rep41_rate10.bed', './datasets/bedshiftdataset/rep41_rate20.bed', './datasets/bedshiftdataset/rep41_rate30.bed', './datasets/bedshiftdataset/rep41_rate40.bed', './datasets/bedshiftdataset/rep41_rate50.bed', './datasets/bedshiftdataset/rep41_rate60.bed', './datasets/bedshiftdataset/rep41_rate70.bed', './datasets/bedshiftdataset/rep41_rate80.bed', './datasets/bedshiftdataset/rep41_rate90.bed', './datasets/bedshiftdataset/rep42_rate10.bed', './datasets/bedshiftdataset/rep42_rate20.bed', './datasets/bedshiftdataset/rep42_rate30.bed', './datasets/bedshiftdataset/rep42_rate40.bed', './datasets/bedshiftdataset/rep42_rate50.bed', './datasets/bedshiftdataset/rep42_rate60.bed', './datasets/bedshiftdataset/rep42_rate70.bed', './datasets/bedshiftdataset/rep42_rate80.bed', './datasets/bedshiftdataset/rep42_rate90.bed', './datasets/bedshiftdataset/rep43_rate10.bed', './datasets/bedshiftdataset/rep43_rate20.bed', './datasets/bedshiftdataset/rep43_rate30.bed', './datasets/bedshiftdataset/rep43_rate40.bed', './datasets/bedshiftdataset/rep43_rate50.bed', './datasets/bedshiftdataset/rep43_rate60.bed', './datasets/bedshiftdataset/rep43_rate70.bed', './datasets/bedshiftdataset/rep43_rate80.bed', './datasets/bedshiftdataset/rep43_rate90.bed', './datasets/bedshiftdataset/rep44_rate10.bed', './datasets/bedshiftdataset/rep44_rate20.bed', './datasets/bedshiftdataset/rep44_rate30.bed', './datasets/bedshiftdataset/rep44_rate40.bed', './datasets/bedshiftdataset/rep44_rate50.bed', './datasets/bedshiftdataset/rep44_rate60.bed', './datasets/bedshiftdataset/rep44_rate70.bed', './datasets/bedshiftdataset/rep44_rate80.bed', './datasets/bedshiftdataset/rep44_rate90.bed', './datasets/bedshiftdataset/rep45_rate10.bed', './datasets/bedshiftdataset/rep45_rate20.bed', './datasets/bedshiftdataset/rep45_rate30.bed', './datasets/bedshiftdataset/rep45_rate40.bed', './datasets/bedshiftdataset/rep45_rate50.bed', './datasets/bedshiftdataset/rep45_rate60.bed', './datasets/bedshiftdataset/rep45_rate70.bed', './datasets/bedshiftdataset/rep45_rate80.bed', './datasets/bedshiftdataset/rep45_rate90.bed', './datasets/bedshiftdataset/rep46_rate10.bed', './datasets/bedshiftdataset/rep46_rate20.bed', './datasets/bedshiftdataset/rep46_rate30.bed', './datasets/bedshiftdataset/rep46_rate40.bed', './datasets/bedshiftdataset/rep46_rate50.bed', './datasets/bedshiftdataset/rep46_rate60.bed', './datasets/bedshiftdataset/rep46_rate70.bed', './datasets/bedshiftdataset/rep46_rate80.bed', './datasets/bedshiftdataset/rep46_rate90.bed', './datasets/bedshiftdataset/rep47_rate10.bed', './datasets/bedshiftdataset/rep47_rate20.bed', './datasets/bedshiftdataset/rep47_rate30.bed', './datasets/bedshiftdataset/rep47_rate40.bed', './datasets/bedshiftdataset/rep47_rate50.bed', './datasets/bedshiftdataset/rep47_rate60.bed', './datasets/bedshiftdataset/rep47_rate70.bed', './datasets/bedshiftdataset/rep47_rate80.bed', './datasets/bedshiftdataset/rep47_rate90.bed', './datasets/bedshiftdataset/rep48_rate10.bed', './datasets/bedshiftdataset/rep48_rate20.bed', './datasets/bedshiftdataset/rep48_rate30.bed', './datasets/bedshiftdataset/rep48_rate40.bed', './datasets/bedshiftdataset/rep48_rate50.bed', './datasets/bedshiftdataset/rep48_rate60.bed', './datasets/bedshiftdataset/rep48_rate70.bed', './datasets/bedshiftdataset/rep48_rate80.bed', './datasets/bedshiftdataset/rep48_rate90.bed', './datasets/bedshiftdataset/rep49_rate10.bed', './datasets/bedshiftdataset/rep49_rate20.bed', './datasets/bedshiftdataset/rep49_rate30.bed', './datasets/bedshiftdataset/rep49_rate40.bed', './datasets/bedshiftdataset/rep49_rate50.bed', './datasets/bedshiftdataset/rep49_rate60.bed', './datasets/bedshiftdataset/rep49_rate70.bed', './datasets/bedshiftdataset/rep49_rate80.bed', './datasets/bedshiftdataset/rep49_rate90.bed', './datasets/bedshiftdataset/rep4_rate10.bed', './datasets/bedshiftdataset/rep4_rate20.bed', './datasets/bedshiftdataset/rep4_rate30.bed', './datasets/bedshiftdataset/rep4_rate40.bed', './datasets/bedshiftdataset/rep4_rate50.bed', './datasets/bedshiftdataset/rep4_rate60.bed', './datasets/bedshiftdataset/rep4_rate70.bed', './datasets/bedshiftdataset/rep4_rate80.bed', './datasets/bedshiftdataset/rep4_rate90.bed', './datasets/bedshiftdataset/rep50_rate10.bed', './datasets/bedshiftdataset/rep50_rate20.bed', './datasets/bedshiftdataset/rep50_rate30.bed', './datasets/bedshiftdataset/rep50_rate40.bed', './datasets/bedshiftdataset/rep50_rate50.bed', './datasets/bedshiftdataset/rep50_rate60.bed', './datasets/bedshiftdataset/rep50_rate70.bed', './datasets/bedshiftdataset/rep50_rate80.bed', './datasets/bedshiftdataset/rep50_rate90.bed', './datasets/bedshiftdataset/rep51_rate10.bed', './datasets/bedshiftdataset/rep51_rate20.bed', './datasets/bedshiftdataset/rep51_rate30.bed', './datasets/bedshiftdataset/rep51_rate40.bed', './datasets/bedshiftdataset/rep51_rate50.bed', './datasets/bedshiftdataset/rep51_rate60.bed', './datasets/bedshiftdataset/rep51_rate70.bed', './datasets/bedshiftdataset/rep51_rate80.bed', './datasets/bedshiftdataset/rep51_rate90.bed', './datasets/bedshiftdataset/rep52_rate10.bed', './datasets/bedshiftdataset/rep52_rate20.bed', './datasets/bedshiftdataset/rep52_rate30.bed', './datasets/bedshiftdataset/rep52_rate40.bed', './datasets/bedshiftdataset/rep52_rate50.bed', './datasets/bedshiftdataset/rep52_rate60.bed', './datasets/bedshiftdataset/rep52_rate70.bed', './datasets/bedshiftdataset/rep52_rate80.bed', './datasets/bedshiftdataset/rep52_rate90.bed', './datasets/bedshiftdataset/rep53_rate10.bed', './datasets/bedshiftdataset/rep53_rate20.bed', './datasets/bedshiftdataset/rep53_rate30.bed', './datasets/bedshiftdataset/rep53_rate40.bed', './datasets/bedshiftdataset/rep53_rate50.bed', './datasets/bedshiftdataset/rep53_rate60.bed', './datasets/bedshiftdataset/rep53_rate70.bed', './datasets/bedshiftdataset/rep53_rate80.bed', './datasets/bedshiftdataset/rep53_rate90.bed', './datasets/bedshiftdataset/rep54_rate10.bed', './datasets/bedshiftdataset/rep54_rate20.bed', './datasets/bedshiftdataset/rep54_rate30.bed', './datasets/bedshiftdataset/rep54_rate40.bed', './datasets/bedshiftdataset/rep54_rate50.bed', './datasets/bedshiftdataset/rep54_rate60.bed', './datasets/bedshiftdataset/rep54_rate70.bed', './datasets/bedshiftdataset/rep54_rate80.bed', './datasets/bedshiftdataset/rep54_rate90.bed', './datasets/bedshiftdataset/rep55_rate10.bed', './datasets/bedshiftdataset/rep55_rate20.bed', './datasets/bedshiftdataset/rep55_rate30.bed', './datasets/bedshiftdataset/rep55_rate40.bed', './datasets/bedshiftdataset/rep55_rate50.bed', './datasets/bedshiftdataset/rep55_rate60.bed', './datasets/bedshiftdataset/rep55_rate70.bed', './datasets/bedshiftdataset/rep55_rate80.bed', './datasets/bedshiftdataset/rep55_rate90.bed', './datasets/bedshiftdataset/rep56_rate10.bed', './datasets/bedshiftdataset/rep56_rate20.bed', './datasets/bedshiftdataset/rep56_rate30.bed', './datasets/bedshiftdataset/rep56_rate40.bed', './datasets/bedshiftdataset/rep56_rate50.bed', './datasets/bedshiftdataset/rep56_rate60.bed', './datasets/bedshiftdataset/rep56_rate70.bed', './datasets/bedshiftdataset/rep56_rate80.bed', './datasets/bedshiftdataset/rep56_rate90.bed', './datasets/bedshiftdataset/rep57_rate10.bed', './datasets/bedshiftdataset/rep57_rate20.bed', './datasets/bedshiftdataset/rep57_rate30.bed', './datasets/bedshiftdataset/rep57_rate40.bed', './datasets/bedshiftdataset/rep57_rate50.bed', './datasets/bedshiftdataset/rep57_rate60.bed', './datasets/bedshiftdataset/rep57_rate70.bed', './datasets/bedshiftdataset/rep57_rate80.bed', './datasets/bedshiftdataset/rep57_rate90.bed', './datasets/bedshiftdataset/rep58_rate10.bed', './datasets/bedshiftdataset/rep58_rate20.bed', './datasets/bedshiftdataset/rep58_rate30.bed', './datasets/bedshiftdataset/rep58_rate40.bed', './datasets/bedshiftdataset/rep58_rate50.bed', './datasets/bedshiftdataset/rep58_rate60.bed', './datasets/bedshiftdataset/rep58_rate70.bed', './datasets/bedshiftdataset/rep58_rate80.bed', './datasets/bedshiftdataset/rep58_rate90.bed', './datasets/bedshiftdataset/rep59_rate10.bed', './datasets/bedshiftdataset/rep59_rate20.bed', './datasets/bedshiftdataset/rep59_rate30.bed', './datasets/bedshiftdataset/rep59_rate40.bed', './datasets/bedshiftdataset/rep59_rate50.bed', './datasets/bedshiftdataset/rep59_rate60.bed', './datasets/bedshiftdataset/rep59_rate70.bed', './datasets/bedshiftdataset/rep59_rate80.bed', './datasets/bedshiftdataset/rep59_rate90.bed', './datasets/bedshiftdataset/rep5_rate10.bed', './datasets/bedshiftdataset/rep5_rate20.bed', './datasets/bedshiftdataset/rep5_rate30.bed', './datasets/bedshiftdataset/rep5_rate40.bed', './datasets/bedshiftdataset/rep5_rate50.bed', './datasets/bedshiftdataset/rep5_rate60.bed', './datasets/bedshiftdataset/rep5_rate70.bed', './datasets/bedshiftdataset/rep5_rate80.bed', './datasets/bedshiftdataset/rep5_rate90.bed', './datasets/bedshiftdataset/rep60_rate10.bed', './datasets/bedshiftdataset/rep60_rate20.bed', './datasets/bedshiftdataset/rep60_rate30.bed', './datasets/bedshiftdataset/rep60_rate40.bed', './datasets/bedshiftdataset/rep60_rate50.bed', './datasets/bedshiftdataset/rep60_rate60.bed', './datasets/bedshiftdataset/rep60_rate70.bed', './datasets/bedshiftdataset/rep60_rate80.bed', './datasets/bedshiftdataset/rep60_rate90.bed', './datasets/bedshiftdataset/rep61_rate10.bed', './datasets/bedshiftdataset/rep61_rate20.bed', './datasets/bedshiftdataset/rep61_rate30.bed', './datasets/bedshiftdataset/rep61_rate40.bed', './datasets/bedshiftdataset/rep61_rate50.bed', './datasets/bedshiftdataset/rep61_rate60.bed', './datasets/bedshiftdataset/rep61_rate70.bed', './datasets/bedshiftdataset/rep61_rate80.bed', './datasets/bedshiftdataset/rep61_rate90.bed', './datasets/bedshiftdataset/rep62_rate10.bed', './datasets/bedshiftdataset/rep62_rate20.bed', './datasets/bedshiftdataset/rep62_rate30.bed', './datasets/bedshiftdataset/rep62_rate40.bed', './datasets/bedshiftdataset/rep62_rate50.bed', './datasets/bedshiftdataset/rep62_rate60.bed', './datasets/bedshiftdataset/rep62_rate70.bed', './datasets/bedshiftdataset/rep62_rate80.bed', './datasets/bedshiftdataset/rep62_rate90.bed', './datasets/bedshiftdataset/rep63_rate10.bed', './datasets/bedshiftdataset/rep63_rate20.bed', './datasets/bedshiftdataset/rep63_rate30.bed', './datasets/bedshiftdataset/rep63_rate40.bed', './datasets/bedshiftdataset/rep63_rate50.bed', './datasets/bedshiftdataset/rep63_rate60.bed', './datasets/bedshiftdataset/rep63_rate70.bed', './datasets/bedshiftdataset/rep63_rate80.bed', './datasets/bedshiftdataset/rep63_rate90.bed', './datasets/bedshiftdataset/rep64_rate10.bed', './datasets/bedshiftdataset/rep64_rate20.bed', './datasets/bedshiftdataset/rep64_rate30.bed', './datasets/bedshiftdataset/rep64_rate40.bed', './datasets/bedshiftdataset/rep64_rate50.bed', './datasets/bedshiftdataset/rep64_rate60.bed', './datasets/bedshiftdataset/rep64_rate70.bed', './datasets/bedshiftdataset/rep64_rate80.bed', './datasets/bedshiftdataset/rep64_rate90.bed', './datasets/bedshiftdataset/rep65_rate10.bed', './datasets/bedshiftdataset/rep65_rate20.bed', './datasets/bedshiftdataset/rep65_rate30.bed', './datasets/bedshiftdataset/rep65_rate40.bed', './datasets/bedshiftdataset/rep65_rate50.bed', './datasets/bedshiftdataset/rep65_rate60.bed', './datasets/bedshiftdataset/rep65_rate70.bed', './datasets/bedshiftdataset/rep65_rate80.bed', './datasets/bedshiftdataset/rep65_rate90.bed', './datasets/bedshiftdataset/rep66_rate10.bed', './datasets/bedshiftdataset/rep66_rate20.bed', './datasets/bedshiftdataset/rep66_rate30.bed', './datasets/bedshiftdataset/rep66_rate40.bed', './datasets/bedshiftdataset/rep66_rate50.bed', './datasets/bedshiftdataset/rep66_rate60.bed', './datasets/bedshiftdataset/rep66_rate70.bed', './datasets/bedshiftdataset/rep66_rate80.bed', './datasets/bedshiftdataset/rep66_rate90.bed', './datasets/bedshiftdataset/rep67_rate10.bed', './datasets/bedshiftdataset/rep67_rate20.bed', './datasets/bedshiftdataset/rep67_rate30.bed', './datasets/bedshiftdataset/rep67_rate40.bed', './datasets/bedshiftdataset/rep67_rate50.bed', './datasets/bedshiftdataset/rep67_rate60.bed', './datasets/bedshiftdataset/rep67_rate70.bed', './datasets/bedshiftdataset/rep67_rate80.bed', './datasets/bedshiftdataset/rep67_rate90.bed', './datasets/bedshiftdataset/rep68_rate10.bed', './datasets/bedshiftdataset/rep68_rate20.bed', './datasets/bedshiftdataset/rep68_rate30.bed', './datasets/bedshiftdataset/rep68_rate40.bed', './datasets/bedshiftdataset/rep68_rate50.bed', './datasets/bedshiftdataset/rep68_rate60.bed', './datasets/bedshiftdataset/rep68_rate70.bed', './datasets/bedshiftdataset/rep68_rate80.bed', './datasets/bedshiftdataset/rep68_rate90.bed', './datasets/bedshiftdataset/rep69_rate10.bed', './datasets/bedshiftdataset/rep69_rate20.bed', './datasets/bedshiftdataset/rep69_rate30.bed', './datasets/bedshiftdataset/rep69_rate40.bed', './datasets/bedshiftdataset/rep69_rate50.bed', './datasets/bedshiftdataset/rep69_rate60.bed', './datasets/bedshiftdataset/rep69_rate70.bed', './datasets/bedshiftdataset/rep69_rate80.bed', './datasets/bedshiftdataset/rep69_rate90.bed', './datasets/bedshiftdataset/rep6_rate10.bed', './datasets/bedshiftdataset/rep6_rate20.bed', './datasets/bedshiftdataset/rep6_rate30.bed', './datasets/bedshiftdataset/rep6_rate40.bed', './datasets/bedshiftdataset/rep6_rate50.bed', './datasets/bedshiftdataset/rep6_rate60.bed', './datasets/bedshiftdataset/rep6_rate70.bed', './datasets/bedshiftdataset/rep6_rate80.bed', './datasets/bedshiftdataset/rep6_rate90.bed', './datasets/bedshiftdataset/rep70_rate10.bed', './datasets/bedshiftdataset/rep70_rate20.bed', './datasets/bedshiftdataset/rep70_rate30.bed', './datasets/bedshiftdataset/rep70_rate40.bed', './datasets/bedshiftdataset/rep70_rate50.bed', './datasets/bedshiftdataset/rep70_rate60.bed', './datasets/bedshiftdataset/rep70_rate70.bed', './datasets/bedshiftdataset/rep70_rate80.bed', './datasets/bedshiftdataset/rep70_rate90.bed', './datasets/bedshiftdataset/rep71_rate10.bed', './datasets/bedshiftdataset/rep71_rate20.bed', './datasets/bedshiftdataset/rep71_rate30.bed', './datasets/bedshiftdataset/rep71_rate40.bed', './datasets/bedshiftdataset/rep71_rate50.bed', './datasets/bedshiftdataset/rep71_rate60.bed', './datasets/bedshiftdataset/rep71_rate70.bed', './datasets/bedshiftdataset/rep71_rate80.bed', './datasets/bedshiftdataset/rep71_rate90.bed', './datasets/bedshiftdataset/rep72_rate10.bed', './datasets/bedshiftdataset/rep72_rate20.bed', './datasets/bedshiftdataset/rep72_rate30.bed', './datasets/bedshiftdataset/rep72_rate40.bed', './datasets/bedshiftdataset/rep72_rate50.bed', './datasets/bedshiftdataset/rep72_rate60.bed', './datasets/bedshiftdataset/rep72_rate70.bed', './datasets/bedshiftdataset/rep72_rate80.bed', './datasets/bedshiftdataset/rep72_rate90.bed', './datasets/bedshiftdataset/rep73_rate10.bed', './datasets/bedshiftdataset/rep73_rate20.bed', './datasets/bedshiftdataset/rep73_rate30.bed', './datasets/bedshiftdataset/rep73_rate40.bed', './datasets/bedshiftdataset/rep73_rate50.bed', './datasets/bedshiftdataset/rep73_rate60.bed', './datasets/bedshiftdataset/rep73_rate70.bed', './datasets/bedshiftdataset/rep73_rate80.bed', './datasets/bedshiftdataset/rep73_rate90.bed', './datasets/bedshiftdataset/rep74_rate10.bed', './datasets/bedshiftdataset/rep74_rate20.bed', './datasets/bedshiftdataset/rep74_rate30.bed', './datasets/bedshiftdataset/rep74_rate40.bed', './datasets/bedshiftdataset/rep74_rate50.bed', './datasets/bedshiftdataset/rep74_rate60.bed', './datasets/bedshiftdataset/rep74_rate70.bed', './datasets/bedshiftdataset/rep74_rate80.bed', './datasets/bedshiftdataset/rep74_rate90.bed', './datasets/bedshiftdataset/rep75_rate10.bed', './datasets/bedshiftdataset/rep75_rate20.bed', './datasets/bedshiftdataset/rep75_rate30.bed', './datasets/bedshiftdataset/rep75_rate40.bed', './datasets/bedshiftdataset/rep75_rate50.bed', './datasets/bedshiftdataset/rep75_rate60.bed', './datasets/bedshiftdataset/rep75_rate70.bed', './datasets/bedshiftdataset/rep75_rate80.bed', './datasets/bedshiftdataset/rep75_rate90.bed', './datasets/bedshiftdataset/rep76_rate10.bed', './datasets/bedshiftdataset/rep76_rate20.bed', './datasets/bedshiftdataset/rep76_rate30.bed', './datasets/bedshiftdataset/rep76_rate40.bed', './datasets/bedshiftdataset/rep76_rate50.bed', './datasets/bedshiftdataset/rep76_rate60.bed', './datasets/bedshiftdataset/rep76_rate70.bed', './datasets/bedshiftdataset/rep76_rate80.bed', './datasets/bedshiftdataset/rep76_rate90.bed', './datasets/bedshiftdataset/rep77_rate10.bed', './datasets/bedshiftdataset/rep77_rate20.bed', './datasets/bedshiftdataset/rep77_rate30.bed', './datasets/bedshiftdataset/rep77_rate40.bed', './datasets/bedshiftdataset/rep77_rate50.bed', './datasets/bedshiftdataset/rep77_rate60.bed', './datasets/bedshiftdataset/rep77_rate70.bed', './datasets/bedshiftdataset/rep77_rate80.bed', './datasets/bedshiftdataset/rep77_rate90.bed', './datasets/bedshiftdataset/rep78_rate10.bed', './datasets/bedshiftdataset/rep78_rate20.bed', './datasets/bedshiftdataset/rep78_rate30.bed', './datasets/bedshiftdataset/rep78_rate40.bed', './datasets/bedshiftdataset/rep78_rate50.bed', './datasets/bedshiftdataset/rep78_rate60.bed', './datasets/bedshiftdataset/rep78_rate70.bed', './datasets/bedshiftdataset/rep78_rate80.bed', './datasets/bedshiftdataset/rep78_rate90.bed', './datasets/bedshiftdataset/rep79_rate10.bed', './datasets/bedshiftdataset/rep79_rate20.bed', './datasets/bedshiftdataset/rep79_rate30.bed', './datasets/bedshiftdataset/rep79_rate40.bed', './datasets/bedshiftdataset/rep79_rate50.bed', './datasets/bedshiftdataset/rep79_rate60.bed', './datasets/bedshiftdataset/rep79_rate70.bed', './datasets/bedshiftdataset/rep79_rate80.bed', './datasets/bedshiftdataset/rep79_rate90.bed', './datasets/bedshiftdataset/rep7_rate10.bed', './datasets/bedshiftdataset/rep7_rate20.bed', './datasets/bedshiftdataset/rep7_rate30.bed', './datasets/bedshiftdataset/rep7_rate40.bed', './datasets/bedshiftdataset/rep7_rate50.bed', './datasets/bedshiftdataset/rep7_rate60.bed', './datasets/bedshiftdataset/rep7_rate70.bed', './datasets/bedshiftdataset/rep7_rate80.bed', './datasets/bedshiftdataset/rep7_rate90.bed', './datasets/bedshiftdataset/rep80_rate10.bed', './datasets/bedshiftdataset/rep80_rate20.bed', './datasets/bedshiftdataset/rep80_rate30.bed', './datasets/bedshiftdataset/rep80_rate40.bed', './datasets/bedshiftdataset/rep80_rate50.bed', './datasets/bedshiftdataset/rep80_rate60.bed', './datasets/bedshiftdataset/rep80_rate70.bed', './datasets/bedshiftdataset/rep80_rate80.bed', './datasets/bedshiftdataset/rep80_rate90.bed', './datasets/bedshiftdataset/rep81_rate10.bed', './datasets/bedshiftdataset/rep81_rate20.bed', './datasets/bedshiftdataset/rep81_rate30.bed', './datasets/bedshiftdataset/rep81_rate40.bed', './datasets/bedshiftdataset/rep81_rate50.bed', './datasets/bedshiftdataset/rep81_rate60.bed', './datasets/bedshiftdataset/rep81_rate70.bed', './datasets/bedshiftdataset/rep81_rate80.bed', './datasets/bedshiftdataset/rep81_rate90.bed', './datasets/bedshiftdataset/rep82_rate10.bed', './datasets/bedshiftdataset/rep82_rate20.bed', './datasets/bedshiftdataset/rep82_rate30.bed', './datasets/bedshiftdataset/rep82_rate40.bed', './datasets/bedshiftdataset/rep82_rate50.bed', './datasets/bedshiftdataset/rep82_rate60.bed', './datasets/bedshiftdataset/rep82_rate70.bed', './datasets/bedshiftdataset/rep82_rate80.bed', './datasets/bedshiftdataset/rep82_rate90.bed', './datasets/bedshiftdataset/rep83_rate10.bed', './datasets/bedshiftdataset/rep83_rate20.bed', './datasets/bedshiftdataset/rep83_rate30.bed', './datasets/bedshiftdataset/rep83_rate40.bed', './datasets/bedshiftdataset/rep83_rate50.bed', './datasets/bedshiftdataset/rep83_rate60.bed', './datasets/bedshiftdataset/rep83_rate70.bed', './datasets/bedshiftdataset/rep83_rate80.bed', './datasets/bedshiftdataset/rep83_rate90.bed', './datasets/bedshiftdataset/rep84_rate10.bed', './datasets/bedshiftdataset/rep84_rate20.bed', './datasets/bedshiftdataset/rep84_rate30.bed', './datasets/bedshiftdataset/rep84_rate40.bed', './datasets/bedshiftdataset/rep84_rate50.bed', './datasets/bedshiftdataset/rep84_rate60.bed', './datasets/bedshiftdataset/rep84_rate70.bed', './datasets/bedshiftdataset/rep84_rate80.bed', './datasets/bedshiftdataset/rep84_rate90.bed', './datasets/bedshiftdataset/rep85_rate10.bed', './datasets/bedshiftdataset/rep85_rate20.bed', './datasets/bedshiftdataset/rep85_rate30.bed', './datasets/bedshiftdataset/rep85_rate40.bed', './datasets/bedshiftdataset/rep85_rate50.bed', './datasets/bedshiftdataset/rep85_rate60.bed', './datasets/bedshiftdataset/rep85_rate70.bed', './datasets/bedshiftdataset/rep85_rate80.bed', './datasets/bedshiftdataset/rep85_rate90.bed', './datasets/bedshiftdataset/rep86_rate10.bed', './datasets/bedshiftdataset/rep86_rate20.bed', './datasets/bedshiftdataset/rep86_rate30.bed', './datasets/bedshiftdataset/rep86_rate40.bed', './datasets/bedshiftdataset/rep86_rate50.bed', './datasets/bedshiftdataset/rep86_rate60.bed', './datasets/bedshiftdataset/rep86_rate70.bed', './datasets/bedshiftdataset/rep86_rate80.bed', './datasets/bedshiftdataset/rep86_rate90.bed', './datasets/bedshiftdataset/rep87_rate10.bed', './datasets/bedshiftdataset/rep87_rate20.bed', './datasets/bedshiftdataset/rep87_rate30.bed', './datasets/bedshiftdataset/rep87_rate40.bed', './datasets/bedshiftdataset/rep87_rate50.bed', './datasets/bedshiftdataset/rep87_rate60.bed', './datasets/bedshiftdataset/rep87_rate70.bed', './datasets/bedshiftdataset/rep87_rate80.bed', './datasets/bedshiftdataset/rep87_rate90.bed', './datasets/bedshiftdataset/rep88_rate10.bed', './datasets/bedshiftdataset/rep88_rate20.bed', './datasets/bedshiftdataset/rep88_rate30.bed', './datasets/bedshiftdataset/rep88_rate40.bed', './datasets/bedshiftdataset/rep88_rate50.bed', './datasets/bedshiftdataset/rep88_rate60.bed', './datasets/bedshiftdataset/rep88_rate70.bed', './datasets/bedshiftdataset/rep88_rate80.bed', './datasets/bedshiftdataset/rep88_rate90.bed', './datasets/bedshiftdataset/rep89_rate10.bed', './datasets/bedshiftdataset/rep89_rate20.bed', './datasets/bedshiftdataset/rep89_rate30.bed', './datasets/bedshiftdataset/rep89_rate40.bed', './datasets/bedshiftdataset/rep89_rate50.bed', './datasets/bedshiftdataset/rep89_rate60.bed', './datasets/bedshiftdataset/rep89_rate70.bed', './datasets/bedshiftdataset/rep89_rate80.bed', './datasets/bedshiftdataset/rep89_rate90.bed', './datasets/bedshiftdataset/rep8_rate10.bed', './datasets/bedshiftdataset/rep8_rate20.bed', './datasets/bedshiftdataset/rep8_rate30.bed', './datasets/bedshiftdataset/rep8_rate40.bed', './datasets/bedshiftdataset/rep8_rate50.bed', './datasets/bedshiftdataset/rep8_rate60.bed', './datasets/bedshiftdataset/rep8_rate70.bed', './datasets/bedshiftdataset/rep8_rate80.bed', './datasets/bedshiftdataset/rep8_rate90.bed', './datasets/bedshiftdataset/rep90_rate10.bed', './datasets/bedshiftdataset/rep90_rate20.bed', './datasets/bedshiftdataset/rep90_rate30.bed', './datasets/bedshiftdataset/rep90_rate40.bed', './datasets/bedshiftdataset/rep90_rate50.bed', './datasets/bedshiftdataset/rep90_rate60.bed', './datasets/bedshiftdataset/rep90_rate70.bed', './datasets/bedshiftdataset/rep90_rate80.bed', './datasets/bedshiftdataset/rep90_rate90.bed', './datasets/bedshiftdataset/rep91_rate10.bed', './datasets/bedshiftdataset/rep91_rate20.bed', './datasets/bedshiftdataset/rep91_rate30.bed', './datasets/bedshiftdataset/rep91_rate40.bed', './datasets/bedshiftdataset/rep91_rate50.bed', './datasets/bedshiftdataset/rep91_rate60.bed', './datasets/bedshiftdataset/rep91_rate70.bed', './datasets/bedshiftdataset/rep91_rate80.bed', './datasets/bedshiftdataset/rep91_rate90.bed', './datasets/bedshiftdataset/rep92_rate10.bed', './datasets/bedshiftdataset/rep92_rate20.bed', './datasets/bedshiftdataset/rep92_rate30.bed', './datasets/bedshiftdataset/rep92_rate40.bed', './datasets/bedshiftdataset/rep92_rate50.bed', './datasets/bedshiftdataset/rep92_rate60.bed', './datasets/bedshiftdataset/rep92_rate70.bed', './datasets/bedshiftdataset/rep92_rate80.bed', './datasets/bedshiftdataset/rep92_rate90.bed', './datasets/bedshiftdataset/rep93_rate10.bed', './datasets/bedshiftdataset/rep93_rate20.bed', './datasets/bedshiftdataset/rep93_rate30.bed', './datasets/bedshiftdataset/rep93_rate40.bed', './datasets/bedshiftdataset/rep93_rate50.bed', './datasets/bedshiftdataset/rep93_rate60.bed', './datasets/bedshiftdataset/rep93_rate70.bed', './datasets/bedshiftdataset/rep93_rate80.bed', './datasets/bedshiftdataset/rep93_rate90.bed', './datasets/bedshiftdataset/rep94_rate10.bed', './datasets/bedshiftdataset/rep94_rate20.bed', './datasets/bedshiftdataset/rep94_rate30.bed', './datasets/bedshiftdataset/rep94_rate40.bed', './datasets/bedshiftdataset/rep94_rate50.bed', './datasets/bedshiftdataset/rep94_rate60.bed', './datasets/bedshiftdataset/rep94_rate70.bed', './datasets/bedshiftdataset/rep94_rate80.bed', './datasets/bedshiftdataset/rep94_rate90.bed', './datasets/bedshiftdataset/rep95_rate10.bed', './datasets/bedshiftdataset/rep95_rate20.bed', './datasets/bedshiftdataset/rep95_rate30.bed', './datasets/bedshiftdataset/rep95_rate40.bed', './datasets/bedshiftdataset/rep95_rate50.bed', './datasets/bedshiftdataset/rep95_rate60.bed', './datasets/bedshiftdataset/rep95_rate70.bed', './datasets/bedshiftdataset/rep95_rate80.bed', './datasets/bedshiftdataset/rep95_rate90.bed', './datasets/bedshiftdataset/rep96_rate10.bed', './datasets/bedshiftdataset/rep96_rate20.bed', './datasets/bedshiftdataset/rep96_rate30.bed', './datasets/bedshiftdataset/rep96_rate40.bed', './datasets/bedshiftdataset/rep96_rate50.bed', './datasets/bedshiftdataset/rep96_rate60.bed', './datasets/bedshiftdataset/rep96_rate70.bed', './datasets/bedshiftdataset/rep96_rate80.bed', './datasets/bedshiftdataset/rep96_rate90.bed', './datasets/bedshiftdataset/rep97_rate10.bed', './datasets/bedshiftdataset/rep97_rate20.bed', './datasets/bedshiftdataset/rep97_rate30.bed', './datasets/bedshiftdataset/rep97_rate40.bed', './datasets/bedshiftdataset/rep97_rate50.bed', './datasets/bedshiftdataset/rep97_rate60.bed', './datasets/bedshiftdataset/rep97_rate70.bed', './datasets/bedshiftdataset/rep97_rate80.bed', './datasets/bedshiftdataset/rep97_rate90.bed', './datasets/bedshiftdataset/rep98_rate10.bed', './datasets/bedshiftdataset/rep98_rate20.bed', './datasets/bedshiftdataset/rep98_rate30.bed', './datasets/bedshiftdataset/rep98_rate40.bed', './datasets/bedshiftdataset/rep98_rate50.bed', './datasets/bedshiftdataset/rep98_rate60.bed', './datasets/bedshiftdataset/rep98_rate70.bed', './datasets/bedshiftdataset/rep98_rate80.bed', './datasets/bedshiftdataset/rep98_rate90.bed', './datasets/bedshiftdataset/rep99_rate10.bed', './datasets/bedshiftdataset/rep99_rate20.bed', './datasets/bedshiftdataset/rep99_rate30.bed', './datasets/bedshiftdataset/rep99_rate40.bed', './datasets/bedshiftdataset/rep99_rate50.bed', './datasets/bedshiftdataset/rep99_rate60.bed', './datasets/bedshiftdataset/rep99_rate70.bed', './datasets/bedshiftdataset/rep99_rate80.bed', './datasets/bedshiftdataset/rep99_rate90.bed', './datasets/bedshiftdataset/rep9_rate10.bed', './datasets/bedshiftdataset/rep9_rate20.bed', './datasets/bedshiftdataset/rep9_rate30.bed', './datasets/bedshiftdataset/rep9_rate40.bed', './datasets/bedshiftdataset/rep9_rate50.bed', './datasets/bedshiftdataset/rep9_rate60.bed', './datasets/bedshiftdataset/rep9_rate70.bed', './datasets/bedshiftdataset/rep9_rate80.bed', './datasets/bedshiftdataset/rep9_rate90.bed']\n",
      "hi\n",
      "hi\n",
      "hi\n",
      "hi\n",
      "hi\n",
      "hi\n",
      "hi\n",
      "hi\n",
      "hi\n",
      "hi\n",
      "hi\n",
      "hi\n",
      "hi\n",
      "hi\n",
      "hi\n"
     ]
    },
    {
     "ename": "NameError",
     "evalue": "name 'Functions_AIList' is not defined",
     "output_type": "error",
     "traceback": [
      "\u001b[0;31m---------------------------------------------------------------------------\u001b[0m",
      "\u001b[0;31mRemoteTraceback\u001b[0m                           Traceback (most recent call last)",
      "\u001b[0;31mRemoteTraceback\u001b[0m: \n\"\"\"\nTraceback (most recent call last):\n  File \"/Users/esestaff/anaconda3/lib/python3.7/multiprocessing/pool.py\", line 121, in worker\n    result = (True, func(*args, **kwds))\n  File \"/Users/esestaff/anaconda3/lib/python3.7/multiprocessing/pool.py\", line 44, in mapstar\n    return list(map(*args))\n  File \"functions_readbedfiles.ipynb\", line 8, in reader\n    \"source\": [\nNameError: name 'Functions_AIList' is not defined\n\"\"\"",
      "\nThe above exception was the direct cause of the following exception:\n",
      "\u001b[0;31mNameError\u001b[0m                                 Traceback (most recent call last)",
      "\u001b[0;32m<timed exec>\u001b[0m in \u001b[0;36m<module>\u001b[0;34m\u001b[0m\n",
      "\u001b[0;32m~/Documents/GitHub/regionset-embedding/functions_readbedfiles.ipynb\u001b[0m in \u001b[0;36mreadFiles2Vector\u001b[0;34m(path_bed_files, universeFile_path, numberofCores, numOfFiles, PATH)\u001b[0m\n\u001b[1;32m     23\u001b[0m     }\n\u001b[1;32m     24\u001b[0m    ],\n\u001b[0;32m---> 25\u001b[0;31m    \"source\": [\n\u001b[0m\u001b[1;32m     26\u001b[0m     \u001b[0;34m\"import json\\n\"\u001b[0m\u001b[0;34m,\u001b[0m\u001b[0;34m\u001b[0m\u001b[0;34m\u001b[0m\u001b[0m\n\u001b[1;32m     27\u001b[0m     \u001b[0;34m\"import glob\\n\"\u001b[0m\u001b[0;34m,\u001b[0m\u001b[0;34m\u001b[0m\u001b[0;34m\u001b[0m\u001b[0m\n",
      "\u001b[0;32m~/anaconda3/lib/python3.7/multiprocessing/pool.py\u001b[0m in \u001b[0;36mmap\u001b[0;34m(self, func, iterable, chunksize)\u001b[0m\n\u001b[1;32m    266\u001b[0m         \u001b[0;32min\u001b[0m \u001b[0ma\u001b[0m \u001b[0mlist\u001b[0m \u001b[0mthat\u001b[0m \u001b[0;32mis\u001b[0m \u001b[0mreturned\u001b[0m\u001b[0;34m.\u001b[0m\u001b[0;34m\u001b[0m\u001b[0;34m\u001b[0m\u001b[0m\n\u001b[1;32m    267\u001b[0m         '''\n\u001b[0;32m--> 268\u001b[0;31m         \u001b[0;32mreturn\u001b[0m \u001b[0mself\u001b[0m\u001b[0;34m.\u001b[0m\u001b[0m_map_async\u001b[0m\u001b[0;34m(\u001b[0m\u001b[0mfunc\u001b[0m\u001b[0;34m,\u001b[0m \u001b[0miterable\u001b[0m\u001b[0;34m,\u001b[0m \u001b[0mmapstar\u001b[0m\u001b[0;34m,\u001b[0m \u001b[0mchunksize\u001b[0m\u001b[0;34m)\u001b[0m\u001b[0;34m.\u001b[0m\u001b[0mget\u001b[0m\u001b[0;34m(\u001b[0m\u001b[0;34m)\u001b[0m\u001b[0;34m\u001b[0m\u001b[0;34m\u001b[0m\u001b[0m\n\u001b[0m\u001b[1;32m    269\u001b[0m \u001b[0;34m\u001b[0m\u001b[0m\n\u001b[1;32m    270\u001b[0m     \u001b[0;32mdef\u001b[0m \u001b[0mstarmap\u001b[0m\u001b[0;34m(\u001b[0m\u001b[0mself\u001b[0m\u001b[0;34m,\u001b[0m \u001b[0mfunc\u001b[0m\u001b[0;34m,\u001b[0m \u001b[0miterable\u001b[0m\u001b[0;34m,\u001b[0m \u001b[0mchunksize\u001b[0m\u001b[0;34m=\u001b[0m\u001b[0;32mNone\u001b[0m\u001b[0;34m)\u001b[0m\u001b[0;34m:\u001b[0m\u001b[0;34m\u001b[0m\u001b[0;34m\u001b[0m\u001b[0m\n",
      "\u001b[0;32m~/anaconda3/lib/python3.7/multiprocessing/pool.py\u001b[0m in \u001b[0;36mget\u001b[0;34m(self, timeout)\u001b[0m\n\u001b[1;32m    655\u001b[0m             \u001b[0;32mreturn\u001b[0m \u001b[0mself\u001b[0m\u001b[0;34m.\u001b[0m\u001b[0m_value\u001b[0m\u001b[0;34m\u001b[0m\u001b[0;34m\u001b[0m\u001b[0m\n\u001b[1;32m    656\u001b[0m         \u001b[0;32melse\u001b[0m\u001b[0;34m:\u001b[0m\u001b[0;34m\u001b[0m\u001b[0;34m\u001b[0m\u001b[0m\n\u001b[0;32m--> 657\u001b[0;31m             \u001b[0;32mraise\u001b[0m \u001b[0mself\u001b[0m\u001b[0;34m.\u001b[0m\u001b[0m_value\u001b[0m\u001b[0;34m\u001b[0m\u001b[0;34m\u001b[0m\u001b[0m\n\u001b[0m\u001b[1;32m    658\u001b[0m \u001b[0;34m\u001b[0m\u001b[0m\n\u001b[1;32m    659\u001b[0m     \u001b[0;32mdef\u001b[0m \u001b[0m_set\u001b[0m\u001b[0;34m(\u001b[0m\u001b[0mself\u001b[0m\u001b[0;34m,\u001b[0m \u001b[0mi\u001b[0m\u001b[0;34m,\u001b[0m \u001b[0mobj\u001b[0m\u001b[0;34m)\u001b[0m\u001b[0;34m:\u001b[0m\u001b[0;34m\u001b[0m\u001b[0;34m\u001b[0m\u001b[0m\n",
      "\u001b[0;31mNameError\u001b[0m: name 'Functions_AIList' is not defined"
     ]
    }
   ],
   "source": [
    "%%time\n",
    "\n",
    "# Union\n",
    "\n",
    "path_univ= sorted(glob.glob(path_universe + \"*\"))[-1:][0]\n",
    "print(path_univ)\n",
    "train_files , segmentation_df_train = readFiles2Vector(path_bedShift, path_univ, numberofCores = 4, numOfFiles= 100, PATH = '')\n",
    "X_train, y_train = create_data4T_SNE(train_files)\n",
    "\n",
    "y_train_y = labels(y_train)\n",
    "plotting(X_train, y_train_y, path_output + typ +'_universe0_umap.svg', typ)\n",
    "\n",
    "# RegionSet2Vec\n",
    "\n",
    "document_Embedding_train = convertMat2document(train_files, segmentation_df_train)\n",
    "document_Embedding_avg_train = document_embedding_avg(document_Embedding_train, model)\n",
    "X_train = list(document_Embedding_avg_train.values())\n",
    "y_train = list(document_Embedding_avg_train.keys())\n",
    "\n",
    "y_train_y = labels(y_train)\n",
    "plotting(X_train, y_train_y, path_output + typ +'_embedding0_umap.svg', typ)\n",
    "\n",
    "# tf_idf\n",
    "\n",
    "path_univ= sorted(glob.glob(path_universe + \"*\"))[-2:-1][0]\n",
    "print(path_univ)\n",
    "train_files , segmentation_df_train = readFiles2Vector(path_bedShift, path_univ, numberofCores = 4, numOfFiles= 100, PATH = '')\n",
    "X_train, y_train = create_data4T_SNE(train_files)\n",
    "\n",
    "y_train_y = labels(y_train)\n",
    "plotting(X_train, y_train_y, path_output + typ+'_500-kbp0_umap.svg', typ)\n"
   ]
  },
  {
   "cell_type": "code",
   "execution_count": 18,
   "metadata": {},
   "outputs": [
    {
     "data": {
      "text/plain": [
       "'./bedshiftdataset/*'"
      ]
     },
     "execution_count": 18,
     "metadata": {},
     "output_type": "execute_result"
    }
   ],
   "source": [
    "path_bedShift"
   ]
  },
  {
   "cell_type": "code",
   "execution_count": null,
   "metadata": {},
   "outputs": [],
   "source": []
  }
 ],
 "metadata": {
  "kernelspec": {
   "display_name": "Python 3",
   "language": "python",
   "name": "python3"
  },
  "language_info": {
   "codemirror_mode": {
    "name": "ipython",
    "version": 3
   },
   "file_extension": ".py",
   "mimetype": "text/x-python",
   "name": "python",
   "nbconvert_exporter": "python",
   "pygments_lexer": "ipython3",
   "version": "3.7.3"
  }
 },
 "nbformat": 4,
 "nbformat_minor": 4
}
