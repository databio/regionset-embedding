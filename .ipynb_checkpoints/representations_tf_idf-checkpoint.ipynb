{
 "cells": [
  {
   "cell_type": "code",
   "execution_count": 1,
   "metadata": {},
   "outputs": [],
   "source": [
    "import os\n",
    "import numpy as np\n",
    "import pandas as pd\n",
    "import itertools\n",
    "import matplotlib.pyplot as plt\n",
    "from sklearn.feature_extraction.text import TfidfVectorizer\n",
    "import string\n",
    "from collections import Counter\n",
    "import random\n",
    "from gensim.test.utils import common_texts\n",
    "from gensim.models import Word2Vec\n",
    "import glob\n",
    "from multiprocessing import Pool"
   ]
  },
  {
   "cell_type": "code",
   "execution_count": 14,
   "metadata": {},
   "outputs": [],
   "source": [
    "import warnings\n",
    "warnings.filterwarnings(\"ignore\")"
   ]
  },
  {
   "cell_type": "code",
   "execution_count": 2,
   "metadata": {},
   "outputs": [],
   "source": [
    "def readingBedfiles(path):\n",
    "    content = []\n",
    "    fileList = sorted([f for f in glob.glob(path)])\n",
    "    dfs = []\n",
    "    for file in fileList:\n",
    "        content = []\n",
    "        with open(file, 'r') as f:\n",
    "            for line in f:\n",
    "                content.append(line.strip().split())\n",
    "            df = pd.DataFrame(content) \n",
    "            df = df.drop(columns = [3, 4, 5, 6, 7, 8, 9])\n",
    "            dfs.append(df)\n",
    "    print('Reading Files Done') \n",
    "    return dfs"
   ]
  },
  {
   "cell_type": "code",
   "execution_count": 3,
   "metadata": {},
   "outputs": [],
   "source": [
    "def to_ranges(iterable):\n",
    "    iterable = sorted(set(iterable))\n",
    "    for key, group in itertools.groupby(enumerate(iterable),\n",
    "                                        lambda t: t[1] - t[0]):\n",
    "        \n",
    "        group = list(group)\n",
    "        yield group[0][1], group[-1][1]"
   ]
  },
  {
   "cell_type": "code",
   "execution_count": 4,
   "metadata": {},
   "outputs": [],
   "source": [
    "def document_creation_loc(dfs, chr_name, fileList):\n",
    "    minimum = []\n",
    "    maximun = []\n",
    "#     print('chr_name', chr_name)\n",
    "    document = {}\n",
    "    fileName = -1\n",
    "    for df in dfs:\n",
    "        \n",
    "        fileName += 1\n",
    "#         print(fileList[fileName])\n",
    "        df_chr = df.loc[df[0] == 'chr' + str(chr_name)]#.sort_values(by=[1, 2])\n",
    "        df_chr[1] = df_chr[1].astype(int)\n",
    "        df_chr[2] = df_chr[2].astype(int)\n",
    "        df_chr = df_chr.sort_values(by=[1, 2])\n",
    "#         print(df_chr)\n",
    "        if(len(df_chr)>0):       \n",
    "            minimum.append(int((df_chr).iloc[0][1]))\n",
    "            maximun.append(int((df_chr).iloc[-1][2]))\n",
    "            document['chr' + str(chr_name) + '_' + str(fileList[fileName].split('.')[0])] = (list(itertools.chain.from_iterable(list(map(lambda x : list(range(x[0],x[1]+1)), df_chr[[1,2]].values.astype(int))))))\n",
    "            \n",
    "#     print('min', min(minimum))\n",
    "#     print('max', max(maximun))\n",
    "    return document"
   ]
  },
  {
   "cell_type": "code",
   "execution_count": 5,
   "metadata": {},
   "outputs": [],
   "source": [
    "#Prepare Data for Vectorization\n",
    "def documentPrepforVec(document):\n",
    "    dictlist = []\n",
    "    for key, value in document.items():\n",
    "        dictlist.append(value)\n",
    "    dictlist = [' '.join([str(x) for x in doc]) for doc in dictlist]\n",
    "    return dictlist"
   ]
  },
  {
   "cell_type": "code",
   "execution_count": 6,
   "metadata": {},
   "outputs": [],
   "source": [
    "#Tf_idf Vectorization document\n",
    "def tf_idfVect_document(train_doclist, test_doclist, max_feature):\n",
    "    vectorizer = TfidfVectorizer(max_features = max_feature)\n",
    "    X_train = vectorizer.fit_transform(train_doclist)\n",
    "    X_test = vectorizer.transform(test_doclist)\n",
    "    \n",
    "    #print(vectorizer.get_feature_names())\n",
    "#     print('shapeOfMatrix', X_train.shape, end = ' ')\n",
    "#     print('shapeOfMatrix', X_test.shape, end = ' ')\n",
    "    return X_train, X_test"
   ]
  },
  {
   "cell_type": "code",
   "execution_count": 7,
   "metadata": {},
   "outputs": [],
   "source": [
    "#Tf_idf Vectorization\n",
    "def tf_idfVect(dictlist, max_feature):\n",
    "    vectorizer = TfidfVectorizer(max_features = max_feature)\n",
    "    X = vectorizer.fit_transform(dictlist)\n",
    "    #print(vectorizer.get_feature_names())\n",
    "#     print('shapeOfMatrix', X.shape)\n",
    "    return vectorizer"
   ]
  },
  {
   "cell_type": "code",
   "execution_count": 8,
   "metadata": {},
   "outputs": [],
   "source": [
    "# Locus Labeling\n",
    "def Loc_labeling(vectorizer, chr_name):\n",
    "    featureRange = list(to_ranges(int(x) for x in vectorizer.get_feature_names()))\n",
    "    #print(listofranges)\n",
    "#     print('featureRangeSize', len(featureRange))\n",
    "    feature_ranges = pd.DataFrame(featureRange)\n",
    "    feature_ranges['len'] = feature_ranges[1] - feature_ranges[0] + 1\n",
    "    feature_ranges = feature_ranges[feature_ranges['len']>100].reset_index()\n",
    "    feature_ranges['chrom'] = 'chr'+ str(chr_name) \n",
    "    feature_ranges = feature_ranges.rename(columns = {0:'start', 1:'end'})\n",
    "    feature_ranges = feature_ranges.drop(columns= ['len'])\n",
    "    return feature_ranges\n"
   ]
  },
  {
   "cell_type": "code",
   "execution_count": 9,
   "metadata": {},
   "outputs": [],
   "source": [
    "# Document Creation\n",
    "def document_creation_word(feature_ranges, document):\n",
    "    list_feature_ranges = feature_ranges['range']\n",
    "    document_text = pd.DataFrame(columns=['doc_name', 'text'])\n",
    "    for doc in document.keys():\n",
    "        #print(doc)\n",
    "        doc_text = ''\n",
    "        word_in_doc = ([int(np.mean(rng)) for rng in list(to_ranges(document[doc]))])\n",
    "        for word in word_in_doc:\n",
    "            founded = ([i for i, lst in enumerate(list_feature_ranges) if word in lst])\n",
    "            if(len(founded)>0):\n",
    "                doc_text = doc_text + ' ' + feature_ranges.iloc[founded]['word'].iloc[0]\n",
    "        document_text = document_text.append(pd.DataFrame([[doc, doc_text]], columns=['doc_name', 'text']))\n",
    "    print('lenWordDocument', len(document_text))\n",
    "    return document_text\n",
    "    "
   ]
  },
  {
   "cell_type": "code",
   "execution_count": 10,
   "metadata": {},
   "outputs": [],
   "source": [
    "def tf_idf_chrom(listofparams):\n",
    "    \n",
    "    dfs = listofparams[0]\n",
    "    chr_name = listofparams[1]\n",
    "    fileList = listofparams[2]\n",
    "    maxfeature = listofparams[3]\n",
    "#     print(chr_name)\n",
    "    documents = document_creation_loc(dfs, chr_name, fileList)\n",
    "    dictlist = documentPrepforVec(documents)\n",
    "    vectorizer = tf_idfVect(dictlist, maxfeature)\n",
    "    feature_ranges = Loc_labeling(vectorizer, chr_name)\n",
    "    #     document_text = document_creation_word(feature_ranges, documents)\n",
    "    return feature_ranges\n",
    "#     corpus = pd.concat([corpus, feature_ranges])\n"
   ]
  },
  {
   "cell_type": "code",
   "execution_count": 11,
   "metadata": {},
   "outputs": [],
   "source": [
    "def representationLearning(path, maxfeature, path_filelist, clas_type, numberofCores, path_representation):\n",
    "    \n",
    "    fileList = sorted(os.listdir(path_filelist))\n",
    "    chrs = list(range(1, 23))\n",
    "    chrs.append('X')\n",
    "    chrs.append('Y')\n",
    "    print(chrs)\n",
    "    dfs = readingBedfiles(path)\n",
    "    \n",
    "    pool = Pool(numberofCores)\n",
    "    print('maxNoOfFeatures', maxfeature)\n",
    "    \n",
    "    listOfparameters = [[dfs] * len(chrs), chrs, [fileList] * len(chrs), [maxfeature] * len(chrs)]\n",
    "\n",
    "    #creates a list of vectors\n",
    "    df_list = pool.map(tf_idf_chrom, list(map(list, zip(*listOfparameters))))# (file_list, numOfFiles, segmentation_df))\n",
    "    print('2==========================================')\n",
    "    corpus = pd.concat(df_list)\n",
    "    print('3==========================================')\n",
    "    corpus[['chrom', 'start', 'end']].to_csv(path_representation + '{}_{}_atlas.bed'.format(clas_type, maxfeature/100000), sep = '\\t', index = False, header=False)\n",
    "    return corpus[['chrom', 'start', 'end']]"
   ]
  },
  {
   "cell_type": "markdown",
   "metadata": {},
   "source": [
    "# Test"
   ]
  },
  {
   "cell_type": "code",
   "execution_count": 12,
   "metadata": {},
   "outputs": [],
   "source": [
    "path_filelist = './'\n",
    "path = path_filelist + \"datasets/antibodydataset/test/*\"\n",
    "clas_type = 'antibody'\n",
    "path_representation = './representations/{}/'.format(clas_type)\n",
    "numberofCores = 6  "
   ]
  },
  {
   "cell_type": "code",
   "execution_count": 1,
   "metadata": {},
   "outputs": [
    {
     "name": "stdout",
     "output_type": "stream",
     "text": [
      "CPU times: user 3 µs, sys: 0 ns, total: 3 µs\n",
      "Wall time: 7.15 µs\n"
     ]
    }
   ],
   "source": [
    "%%time\n",
    "\n",
    "for maxfeature in [100000, 500000, 1000000]:\n",
    "    representationLearning(path, maxfeature, path_filelist, clas_type, numberofCores, path_representation)\n",
    "#     print('maxNoOfFeatures', maxfeature)\n"
   ]
  },
  {
   "cell_type": "code",
   "execution_count": 33,
   "metadata": {},
   "outputs": [],
   "source": [
    "# %%time\n",
    "# corpus = pd.DataFrame()\n",
    "# for chr_name in chrs:\n",
    "#     documents = document_creation_loc(dfs, chr_name, fileList)\n",
    "#     dictlist = documentPrepforVec(documents)\n",
    "#     vectorizer = tf_idfVect(dictlist, maxfeature)\n",
    "#     feature_ranges = Loc_labeling(vectorizer, chr_name)\n",
    "# #     document_text = document_creation_word(feature_ranges, documents)\n",
    "#     corpus = pd.concat([corpus, feature_ranges])\n",
    "#     print('===========================')"
   ]
  },
  {
   "cell_type": "code",
   "execution_count": null,
   "metadata": {},
   "outputs": [],
   "source": []
  }
 ],
 "metadata": {
  "kernelspec": {
   "display_name": "Python 3",
   "language": "python",
   "name": "python3"
  },
  "language_info": {
   "codemirror_mode": {
    "name": "ipython",
    "version": 3
   },
   "file_extension": ".py",
   "mimetype": "text/x-python",
   "name": "python",
   "nbconvert_exporter": "python",
   "pygments_lexer": "ipython3",
   "version": "3.7.3"
  }
 },
 "nbformat": 4,
 "nbformat_minor": 4
}
