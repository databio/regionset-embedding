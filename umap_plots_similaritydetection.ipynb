{
 "cells": [
  {
   "cell_type": "code",
   "execution_count": 1,
   "metadata": {},
   "outputs": [],
   "source": [
    "import matplotlib\n",
    "matplotlib.rcParams[\"svg.fonttype\"] = \"none\"\n",
    "matplotlib.rcParams[\"text.usetex\"] = False"
   ]
  },
  {
   "cell_type": "code",
   "execution_count": 2,
   "metadata": {},
   "outputs": [],
   "source": [
    "from gensim.models import Word2Vec\n",
    "import json\n"
   ]
  },
  {
   "cell_type": "code",
   "execution_count": 3,
   "metadata": {},
   "outputs": [],
   "source": [
    "#!pip install import_ipynb"
   ]
  },
  {
   "cell_type": "code",
   "execution_count": 4,
   "metadata": {},
   "outputs": [
    {
     "name": "stdout",
     "output_type": "stream",
     "text": [
      "Importing Jupyter notebook from functions_readbedfiles.ipynb\n",
      "Importing Jupyter notebook from functions_ailist.ipynb\n"
     ]
    }
   ],
   "source": [
    "# from imfunctoolstlib import reload\n",
    "import nbimporter\n",
    "from collections import Counter\n",
    "from functions_readbedfiles import readJsonFile, readFiles2Vector, writeJsonFile, convertMat2document, readJsonFile\n",
    "import glob\n",
    "import pandas as pd\n",
    "import numpy as np\n",
    "import time\n",
    "import copy\n",
    "import gc\n",
    "import os\n",
    "from sklearn.decomposition import PCA\n"
   ]
  },
  {
   "cell_type": "code",
   "execution_count": 22,
   "metadata": {},
   "outputs": [],
   "source": [
    "# !pip install umap_learn"
   ]
  },
  {
   "cell_type": "code",
   "execution_count": 6,
   "metadata": {},
   "outputs": [
    {
     "ename": "ModuleNotFoundError",
     "evalue": "No module named 'umap.plot'",
     "output_type": "error",
     "traceback": [
      "\u001b[0;31m---------------------------------------------------------------------------\u001b[0m",
      "\u001b[0;31mModuleNotFoundError\u001b[0m                       Traceback (most recent call last)",
      "\u001b[0;32m<ipython-input-6-b113909220cb>\u001b[0m in \u001b[0;36m<module>\u001b[0;34m\u001b[0m\n\u001b[1;32m     10\u001b[0m \u001b[0;32mimport\u001b[0m \u001b[0mcolorsys\u001b[0m\u001b[0;34m\u001b[0m\u001b[0;34m\u001b[0m\u001b[0m\n\u001b[1;32m     11\u001b[0m \u001b[0;32mfrom\u001b[0m \u001b[0moperator\u001b[0m \u001b[0;32mimport\u001b[0m \u001b[0mitemgetter\u001b[0m\u001b[0;34m\u001b[0m\u001b[0;34m\u001b[0m\u001b[0m\n\u001b[0;32m---> 12\u001b[0;31m \u001b[0;32mimport\u001b[0m \u001b[0mumap\u001b[0m\u001b[0;34m.\u001b[0m\u001b[0mplot\u001b[0m\u001b[0;34m\u001b[0m\u001b[0;34m\u001b[0m\u001b[0m\n\u001b[0m",
      "\u001b[0;31mModuleNotFoundError\u001b[0m: No module named 'umap.plot'"
     ]
    }
   ],
   "source": [
    "import datetime \n",
    "import matplotlib.pyplot as plt\n",
    "import seaborn as sns\n",
    "import matplotlib.font_manager as font_manager\n",
    "import shutil\n",
    "from os import walk\n",
    "import plotly_express as px \n",
    "import umap\n",
    "\n",
    "import colorsys\n",
    "from operator import itemgetter \n",
    "import umap.plot"
   ]
  },
  {
   "cell_type": "code",
   "execution_count": 7,
   "metadata": {},
   "outputs": [],
   "source": [
    "# !pip install umap-learn[plotting]"
   ]
  },
  {
   "cell_type": "markdown",
   "metadata": {},
   "source": [
    "# Read data"
   ]
  },
  {
   "cell_type": "code",
   "execution_count": 8,
   "metadata": {},
   "outputs": [],
   "source": [
    "def labels(y_train):\n",
    "    y_train_y  = []\n",
    "    for y in y_train:\n",
    "#         print(y[-1])\n",
    "        if('rx' in y):\n",
    "            y_train_y.append('original file')\n",
    "            continue\n",
    "\n",
    "        y_name = y.split('_')[-1].split('.')[0]\n",
    "        if(y_name[-1]!= '0'):\n",
    "            y_name=y_name+'0'\n",
    "#             print(y_name)\n",
    "        y_train_y.append(y_name.replace('rate', '') +' percent')\n",
    "    return y_train_y\n"
   ]
  },
  {
   "cell_type": "code",
   "execution_count": 9,
   "metadata": {},
   "outputs": [
    {
     "name": "stdout",
     "output_type": "stream",
     "text": [
      "CPU times: user 4 µs, sys: 1 µs, total: 5 µs\n",
      "Wall time: 8.34 µs\n"
     ]
    }
   ],
   "source": [
    "%%time\n",
    "\n",
    "def plotting(X_train, y_train_y, file_name, plottitle):\n",
    "    print(len(X_train), len(y_train_y))\n",
    "    tsnefig_umap = UMAP_plot(X_train, y_train_y, '', nn =100, filename = file_name, plottitle=typ)\n",
    "\n",
    "#     tsnefig_umap.savefig((file_name), format='png', bbox_inches='tight')\n",
    "    "
   ]
  },
  {
   "cell_type": "code",
   "execution_count": 10,
   "metadata": {},
   "outputs": [],
   "source": [
    "\n",
    "def UMAP_plot(data_X, y, title, nn, filename, plottitle):\n",
    "    ftnsize = 20\n",
    "    dp = 300\n",
    "    fontname = 'Times New Roman'\n",
    "    markers =  {\"srx026068\": \"^\", 'srx2614876': \"^\", 'original file': \"^\", \"add1\": \"o\", \"add2\": \"o\", \"add3\": \"o\", \"add4\": \"o\", \"add5\": \"o\", \"add6\": \"o\",\n",
    "               \"add7\": \"o\", \"add8\": \"o\",\n",
    "              \"add9\": \"o\", 'shift4': \"o\", 'shift8': \"o\", 'shift1': \"o\", 'shift6': \"o\", 'shift2': \"o\", \n",
    "               'shift7': \"o\", 'shift5': \"o\", 'shift9': \"o\", 'shift3': \"o\",\n",
    "              'drop1': \"o\", 'drop4': \"o\", 'drop9': \"o\", 'drop5': \"o\", 'drop8': \"o\", 'drop2': \"o\", \n",
    "               'drop7': \"o\", 'drop6': \"o\", 'drop3': \"o\",\n",
    "              'rate1': \"o\", 'rate4': \"o\", 'rate9': \"o\", 'rate5': \"o\", 'rate8': \"o\", 'rate2': \"o\", \n",
    "               'rate7': \"o\", 'rate6': \"o\", 'rate3': \"o\",\n",
    "              'rate10': \"o\", 'rate40': \"o\", 'rate90': \"o\", 'rate50': \"o\", 'rate80': \"o\", 'rate20': \"o\", \n",
    "               'rate70': \"o\", 'rate60': \"o\", 'rate30': \"o\",\n",
    "               \"add10\": \"o\", \"add20\": \"o\", \"add30\": \"o\", \"add40\": \"o\", \"add50\": \"o\", \"add60\": \"o\",\n",
    "               \"add70\": \"o\", \"add80\": \"o\",\n",
    "              \"add90\": \"o\", 'shift40': \"o\", 'shift80': \"o\", 'shift10': \"o\", 'shift60': \"o\", 'shift20': \"o\", \n",
    "               'shift70': \"o\", 'shift50': \"o\", 'shift90': \"o\", 'shift30': \"o\",\n",
    "              'drop10': \"o\", 'drop40': \"o\", 'drop90': \"o\", 'drop50': \"o\", 'drop80': \"o\", 'drop20': \"o\", \n",
    "               'drop70': \"o\", 'drop60': \"o\", 'drop30': \"o\",\n",
    "               '10 percent': \"o\", '40 percent': \"o\", '90 percent': \"o\", '50 percent': \"o\", '80 percent': \"o\", '20 percent': \"o\", \n",
    "               '70 percent': \"o\", '60 percent': \"o\", '30 percent': \"o\"}\n",
    "    \n",
    "    font = font_manager.FontProperties(family='Times New Roman',\n",
    "                                   weight='bold',\n",
    "                                   style='normal', size=100)\n",
    "    \n",
    "    ump = umap.UMAP(a=None, angular_rp_forest=False, b=None,\n",
    "     force_approximation_algorithm=False, init='spectral', learning_rate=1.0,\n",
    "     local_connectivity=1.0, low_memory=False, metric='euclidean',\n",
    "     metric_kwds=None, min_dist=0.1, n_components=2, n_epochs=3000,\n",
    "     n_neighbors=nn, negative_sample_rate=5, output_metric='euclidean',\n",
    "     output_metric_kwds=None, random_state=42, repulsion_strength=1.0,\n",
    "     set_op_mix_ratio=1.0, spread=1.0, target_metric='categorical',\n",
    "     target_metric_kwds=None, target_n_neighbors=-1, target_weight=0.5,\n",
    "     transform_queue_size=4.0, transform_seed=42, unique=False, verbose=False)\n",
    "    \n",
    "    ump.fit(data_X) \n",
    "    ump_data = pd.DataFrame(ump.transform(data_X)) \n",
    "\n",
    "\n",
    "    ump_data = pd.DataFrame({'UMAP 1':ump_data[0],\n",
    "                            'UMAP 2':ump_data[1],\n",
    "                            title:y})\n",
    "    \n",
    "\n",
    "    fig, ax = plt.subplots(figsize=(6,6))\n",
    "#     plt.fig(figsize=(40, 25))\n",
    "#     plate = sns.color_palette(\"coolwarm\", n_colors=len(set(y)))\n",
    "\n",
    "\n",
    "    plate = sns.color_palette(\"BuGn_r\", n_colors= 10)\n",
    "    # plate= sns.light_palette((210, 90, 60), input=\"husl\", n_colors= 100)\n",
    "    plate.reverse()\n",
    "    originalFileColor = 'black'\n",
    "\n",
    "#     index = [200, 300, 400, 500, 600, 700, 800, 900, 1000, 1099]\n",
    "#     plate = list(itemgetter(*index)(plate))\n",
    "\n",
    "\n",
    "    sns.scatterplot(x=\"UMAP 1\", y=\"UMAP 2\",\n",
    "                  hue=title,\n",
    "                         style=title,\n",
    "                    s= 60,\n",
    "                         palette = plate[0:-1],# sns.color_palette('coolwarm', n_colors=len(set(y))), \n",
    "    #                          prop=font,\n",
    "                         legend=None,\n",
    "                    edgecolor='black',\n",
    "                    linewidth=0.2,\n",
    "                         markers= markers,\n",
    "    #                 sizes=(100, 900),\n",
    "                  data=ump_data[ump_data[title] != 'original file'].sort_values(by = title), rasterized=True)\n",
    "    #     print(ump_data[ump_data[title] == 'original file'].sort_values(by = title)[0:-1])\n",
    "    sns.scatterplot(x=\"UMAP 1\", y=\"UMAP 2\",\n",
    "                         style=title,\n",
    "                        s= 300,\n",
    "                         color = originalFileColor,\n",
    "                         markers= markers,\n",
    "                        legend=None,\n",
    "                    edgecolor='white',\n",
    "                    linewidth=1,\n",
    "    #                 sizes=(100, 900),\n",
    "                  data=ump_data[ump_data[title] == 'original file'].tail(1)\n",
    "                   , rasterized=True)\n",
    "\n",
    "    ax.axis('off')\n",
    "\n",
    "\n",
    "\n",
    "    fig.savefig('./UMAP_plots_SimilarityDetectionTask/'+filename, format = 'svg', dpi = dp)\n",
    "\n",
    "\n",
    "    sns.scatterplot(x=\"UMAP 1\", y=\"UMAP 2\",\n",
    "                  hue=title,\n",
    "                         style=title,\n",
    "                    s= 60,\n",
    "                         palette = plate[0:-1],# sns.color_palette('coolwarm', n_colors=len(set(y))), \n",
    "    #                          prop=font,\n",
    "#                          legend=None,\n",
    "                    edgecolor='black',\n",
    "                    linewidth=0.2,\n",
    "                         markers= markers,\n",
    "    #                 sizes=(100, 900),\n",
    "                  data=ump_data[ump_data[title] != 'original file'].sort_values(by = title), rasterized=True)\n",
    "    #     print(ump_data[ump_data[title] == 'original file'].sort_values(by = title)[0:-1])\n",
    "    sns.scatterplot(x=\"UMAP 1\", y=\"UMAP 2\",\n",
    "                         style=title,\n",
    "                        s= 300,\n",
    "                         color = originalFileColor,\n",
    "                         markers= markers,\n",
    "#                         legend=None,\n",
    "                    edgecolor='white',\n",
    "                    linewidth=1,\n",
    "    #                 sizes=(100, 900),\n",
    "                  data=ump_data[ump_data[title] == 'original file'].tail(1)\n",
    "                   , rasterized=True)\n",
    "\n",
    "#     plt.legend(prop=font, markerscale=10)\n",
    "    \n",
    "    handles, labels = ax.get_legend_handles_labels()\n",
    "    lgd = plt.legend(handles, labels, loc='upper center', bbox_to_anchor=(0.5,-0.1), fontsize =  ftnsize, markerscale=3)\n",
    "    text = plt.text(-0.2,1.05, \"\", transform=ax.transAxes)\n",
    "\n",
    "    fig.savefig('./UMAP_plots_SimilarityDetectionTask/legend_'+filename, bbox_extra_artists=(lgd, text), bbox_inches='tight', format = 'svg', dpi = dp)\n",
    "\n",
    "    return fig"
   ]
  },
  {
   "cell_type": "code",
   "execution_count": 11,
   "metadata": {},
   "outputs": [],
   "source": [
    "def embedding_avg(model, document):\n",
    "    listOfWVs= []\n",
    "    for word in document.split(' '):\n",
    "        if word in model.wv.vocab:\n",
    "            listOfWVs.append(model[word])\n",
    "            \n",
    "    if(len(listOfWVs) == 0):\n",
    "#         print('hi')\n",
    "        return np.zeros([100])\n",
    "    return np.mean(listOfWVs, axis=0)\n",
    "\n",
    "def document_embedding_avg(document_Embedding, model):\n",
    "    document_Embedding_avg = {}\n",
    "    for file, doc  in document_Embedding.items():\n",
    "        document_Embedding_avg[file] = embedding_avg(model, doc)\n",
    "    return document_Embedding_avg\n",
    "    "
   ]
  },
  {
   "cell_type": "code",
   "execution_count": 12,
   "metadata": {},
   "outputs": [],
   "source": [
    "def create_data4T_SNE(tdMatrix):\n",
    "    tdMatrix =  {k.lower(): v for k, v in tdMatrix.items()}\n",
    "    commonFiles = list(set(tdMatrix.keys())) \n",
    "\n",
    "    data_X = []\n",
    "    y = []\n",
    "    for name in commonFiles:\n",
    "        y_1 = name\n",
    "        if(1==1):\n",
    "            data_X.append(tdMatrix[name])\n",
    "            y.append(y_1)\n",
    "    \n",
    "    return np.array(data_X), y"
   ]
  },
  {
   "cell_type": "code",
   "execution_count": 13,
   "metadata": {},
   "outputs": [],
   "source": [
    "bedshiftType = ['add', 'shift', 'drop', 'rate']"
   ]
  },
  {
   "cell_type": "code",
   "execution_count": 14,
   "metadata": {},
   "outputs": [],
   "source": [
    "typ = bedshiftType[3]\n",
    "clas_type = 'antibody'\n",
    "filename = 'SRX026068.05.bed' #'SRX026068.05.bed' # 'SRX2614876.05.bed'\n"
   ]
  },
  {
   "cell_type": "code",
   "execution_count": 15,
   "metadata": {},
   "outputs": [],
   "source": [
    "path_bedShift = './datasets/bedshiftdataset/*'#.format(clas_type, filename, typ)"
   ]
  },
  {
   "cell_type": "code",
   "execution_count": 16,
   "metadata": {},
   "outputs": [],
   "source": [
    "\n",
    "path_universe = './representations/{}/'.format(clas_type)\n",
    "path_output = './umap_plots_similaritydetection/'"
   ]
  },
  {
   "cell_type": "code",
   "execution_count": 17,
   "metadata": {},
   "outputs": [],
   "source": [
    "#!pip install numpy --upgrade"
   ]
  },
  {
   "cell_type": "code",
   "execution_count": 18,
   "metadata": {},
   "outputs": [],
   "source": [
    "model = Word2Vec.load(\"./word2vecmodels/word2vec_antibody.model\")#.format(clas_type))\n"
   ]
  },
  {
   "cell_type": "code",
   "execution_count": 19,
   "metadata": {},
   "outputs": [
    {
     "name": "stdout",
     "output_type": "stream",
     "text": [
      "./representations/antibody/antibody_universe.bed\n",
      "Reading universe file: Done 2020-10-20 02:05:26.190436\n",
      "Reading bed files: Done 2020-10-20 02:06:15.566823\n",
      "Converting to matrix: Done 2020-10-20 02:06:16.171113\n",
      "901 901\n"
     ]
    },
    {
     "ename": "AttributeError",
     "evalue": "module 'umap' has no attribute 'UMAP'",
     "output_type": "error",
     "traceback": [
      "\u001b[0;31m---------------------------------------------------------------------------\u001b[0m",
      "\u001b[0;31mAttributeError\u001b[0m                            Traceback (most recent call last)",
      "\u001b[0;32m<timed exec>\u001b[0m in \u001b[0;36m<module>\u001b[0;34m\u001b[0m\n",
      "\u001b[0;32m<timed exec>\u001b[0m in \u001b[0;36mplotting\u001b[0;34m(X_train, y_train_y, file_name, plottitle)\u001b[0m\n",
      "\u001b[0;32m<ipython-input-10-a24f289e80be>\u001b[0m in \u001b[0;36mUMAP_plot\u001b[0;34m(data_X, y, title, nn, filename, plottitle)\u001b[0m\n\u001b[1;32m     26\u001b[0m                                    style='normal', size=100)\n\u001b[1;32m     27\u001b[0m \u001b[0;34m\u001b[0m\u001b[0m\n\u001b[0;32m---> 28\u001b[0;31m     ump = umap.UMAP(a=None, angular_rp_forest=False, b=None,\n\u001b[0m\u001b[1;32m     29\u001b[0m      \u001b[0mforce_approximation_algorithm\u001b[0m\u001b[0;34m=\u001b[0m\u001b[0;32mFalse\u001b[0m\u001b[0;34m,\u001b[0m \u001b[0minit\u001b[0m\u001b[0;34m=\u001b[0m\u001b[0;34m'spectral'\u001b[0m\u001b[0;34m,\u001b[0m \u001b[0mlearning_rate\u001b[0m\u001b[0;34m=\u001b[0m\u001b[0;36m1.0\u001b[0m\u001b[0;34m,\u001b[0m\u001b[0;34m\u001b[0m\u001b[0;34m\u001b[0m\u001b[0m\n\u001b[1;32m     30\u001b[0m      \u001b[0mlocal_connectivity\u001b[0m\u001b[0;34m=\u001b[0m\u001b[0;36m1.0\u001b[0m\u001b[0;34m,\u001b[0m \u001b[0mlow_memory\u001b[0m\u001b[0;34m=\u001b[0m\u001b[0;32mFalse\u001b[0m\u001b[0;34m,\u001b[0m \u001b[0mmetric\u001b[0m\u001b[0;34m=\u001b[0m\u001b[0;34m'euclidean'\u001b[0m\u001b[0;34m,\u001b[0m\u001b[0;34m\u001b[0m\u001b[0;34m\u001b[0m\u001b[0m\n",
      "\u001b[0;31mAttributeError\u001b[0m: module 'umap' has no attribute 'UMAP'"
     ]
    }
   ],
   "source": [
    "%%time\n",
    "\n",
    "# Union\n",
    "\n",
    "path_univ= sorted(glob.glob(path_universe + \"*\"))[-1:][0]\n",
    "print(path_univ)\n",
    "train_files , segmentation_df_train = readFiles2Vector(path_bedShift, path_univ, numberofCores = 4, numOfFiles= 100, PATH = '')\n",
    "X_train, y_train = create_data4T_SNE(train_files)\n",
    "\n",
    "y_train_y = labels(y_train)\n",
    "plotting(X_train, y_train_y, path_output + typ +'_universe0_umap.svg', typ)\n",
    "\n",
    "# RegionSet2Vec\n",
    "\n",
    "document_Embedding_train = convertMat2document(train_files, segmentation_df_train)\n",
    "document_Embedding_avg_train = document_embedding_avg(document_Embedding_train, model)\n",
    "X_train = list(document_Embedding_avg_train.values())\n",
    "y_train = list(document_Embedding_avg_train.keys())\n",
    "\n",
    "y_train_y = labels(y_train)\n",
    "plotting(X_train, y_train_y, path_output + typ +'_embedding0_umap.svg', typ)\n",
    "\n",
    "# tf_idf\n",
    "\n",
    "path_univ= sorted(glob.glob(path_universe + \"*\"))[-2:-1][0]\n",
    "print(path_univ)\n",
    "train_files , segmentation_df_train = readFiles2Vector(path_bedShift, path_univ, numberofCores = 4, numOfFiles= 100, PATH = '')\n",
    "X_train, y_train = create_data4T_SNE(train_files)\n",
    "\n",
    "y_train_y = labels(y_train)\n",
    "plotting(X_train, y_train_y, path_output + typ+'_500-kbp0_umap.svg', typ)\n"
   ]
  },
  {
   "cell_type": "code",
   "execution_count": null,
   "metadata": {},
   "outputs": [],
   "source": []
  }
 ],
 "metadata": {
  "kernelspec": {
   "display_name": "Python 3",
   "language": "python",
   "name": "python3"
  },
  "language_info": {
   "codemirror_mode": {
    "name": "ipython",
    "version": 3
   },
   "file_extension": ".py",
   "mimetype": "text/x-python",
   "name": "python",
   "nbconvert_exporter": "python",
   "pygments_lexer": "ipython3",
   "version": "3.7.3"
  }
 },
 "nbformat": 4,
 "nbformat_minor": 4
}
