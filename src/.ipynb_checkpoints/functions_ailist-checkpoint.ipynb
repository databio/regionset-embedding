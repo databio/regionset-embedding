{
 "cells": [
  {
   "cell_type": "code",
   "execution_count": 1,
   "metadata": {},
   "outputs": [],
   "source": [
    "import os\n",
    "import subprocess\n",
    "import pandas as pd\n",
    "import numpy as np"
   ]
  },
  {
   "cell_type": "markdown",
   "metadata": {},
   "source": [
    "# AIlist Functions"
   ]
  },
  {
   "cell_type": "code",
   "execution_count": 1,
   "metadata": {},
   "outputs": [
    {
     "name": "stdout",
     "output_type": "stream",
     "text": [
      "CPU times: user 3 µs, sys: 1 µs, total: 4 µs\n",
      "Wall time: 8.11 µs\n"
     ]
    }
   ],
   "source": [
    "%time\n",
    "\n",
    "def run_ailist(f, num_files, database_output, universeFile, PATH):\n",
    "#     PATH = \"/Users/esestaff/Documents/GitHub/dataregion-embedding/\"\n",
    "\n",
    "    '''\n",
    "    f:          the query file\n",
    "    num_files:  the number of files used in the segmentation.\n",
    "                this will be used to find the segmentation file in regionMap\n",
    "    database_output: if the ailist results are the database regions (True) or the query regions (False)\n",
    "    returns pandas dataframe of the database regions that overlapped the query regions\n",
    "    you need ailist in your path\n",
    "    '''\n",
    "    \n",
    "    if f.startswith('./'):\n",
    "        query = f\n",
    "        \n",
    "    else:\n",
    "        query = os.path.join(PATH, f)\n",
    "    database = universeFile\n",
    "    \n",
    "\n",
    "    if database_output:\n",
    "        #print(subprocess.check_output([\"ailist\", database, query]))\n",
    "        ailist_result = subprocess.check_output([\"/AIList/bin/ailist\", database, query])\n",
    "        ailist_result = [x.replace(':', '').split('\\t ') for x in ailist_result.decode(\"utf-8\").split('\\n')[2:-3]]\n",
    "    else:\n",
    "        #print(subprocess.check_output([\"ailist\", query, database]))\n",
    "        ailist_result = subprocess.check_output([\"/AIList/bin/ailist\", query, database])\n",
    "        ailist_result = [x.replace(':', '').split('\\t ') for x in ailist_result.decode(\"utf-8\").split('\\n')[2:-3]]\n",
    "    \n",
    "#     print((ailist_result))\n",
    "\n",
    "    if (len(ailist_result)== 0):\n",
    "        ailist_result = [['chr0', '0', '0', '0']]\n",
    "\n",
    "    return pd.DataFrame.from_records(ailist_result)#pd.read_csv('ailist_results.csv', sep=',', header=None)\n",
    "\n",
    "\n",
    "def ailist_vectorize(f, num_files, segmentation_df, universeFile, PATH):\n",
    "    '''\n",
    "    creates a vector from the ailist results\n",
    "    '''\n",
    "#     print(list(segmentation_df))\n",
    "    \n",
    "    ailist_df = run_ailist(f, num_files, False, universeFile, PATH)\n",
    "    ailist_df.columns = ['chrom', 'start', 'end', 'overlaps']\n",
    "    \n",
    "    ailist_df.start = ailist_df.start.astype('int64')\n",
    "    ailist_df.end = ailist_df.end.astype('int64')\n",
    "    ailist_df.overlaps = ailist_df.overlaps.astype('int64')\n",
    "    \n",
    "\n",
    "    ailist_df['chrom'] = ailist_df['chrom'].apply(lambda x: x.strip(':'))\n",
    "\n",
    "    vector_df = segmentation_df.merge(ailist_df, how='left', on=['chrom', 'start', 'end'])\n",
    "    vector_df['overlaps'] = vector_df['overlaps'].apply(lambda x: 1 if x >= 1 else 0)\n",
    "\n",
    "    if(sum(list(vector_df['overlaps'])) == 0):\n",
    "        return list(np.zeros(len(segmentation_df)))\n",
    "\n",
    "#     print(len(vector_df))\n",
    "    return list(vector_df['overlaps'])\n"
   ]
  },
  {
   "cell_type": "code",
   "execution_count": null,
   "metadata": {},
   "outputs": [],
   "source": []
  },
  {
   "cell_type": "code",
   "execution_count": null,
   "metadata": {},
   "outputs": [],
   "source": []
  }
 ],
 "metadata": {
  "kernelspec": {
   "display_name": "Python 3",
   "language": "python",
   "name": "python3"
  },
  "language_info": {
   "codemirror_mode": {
    "name": "ipython",
    "version": 3
   },
   "file_extension": ".py",
   "mimetype": "text/x-python",
   "name": "python",
   "nbconvert_exporter": "python",
   "pygments_lexer": "ipython3",
   "version": "3.7.4"
  }
 },
 "nbformat": 4,
 "nbformat_minor": 4
}
