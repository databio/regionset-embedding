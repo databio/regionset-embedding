{
 "cells": [
  {
   "cell_type": "code",
   "execution_count": 1,
   "metadata": {},
   "outputs": [
    {
     "name": "stdout",
     "output_type": "stream",
     "text": [
      "Importing Jupyter notebook from functions_readbedfiles.ipynb\n",
      "Importing Jupyter notebook from functions_ailist.ipynb\n"
     ]
    }
   ],
   "source": [
    "from gensim.models import Word2Vec\n",
    "import json\n",
    "import nbimporter\n",
    "import random\n",
    "import functions_readbedfiles\n",
    "import numpy as np"
   ]
  },
  {
   "cell_type": "markdown",
   "metadata": {},
   "source": [
    "# Shuffling the documents"
   ]
  },
  {
   "cell_type": "code",
   "execution_count": 53,
   "metadata": {},
   "outputs": [],
   "source": [
    "def shuffling(document_universe, shuffle_repeat):\n",
    "    common_text = [value.split(' ')  for key, value in document_universe.items()]\n",
    "    training_samples = []\n",
    "    training_samples.extend(common_text)\n",
    "\n",
    "    for rn in range(shuffle_repeat):\n",
    "        [(random.shuffle(l)) for l in common_text]\n",
    "        training_samples.extend((common_text))\n",
    "    return training_samples\n",
    "    "
   ]
  },
  {
   "cell_type": "markdown",
   "metadata": {},
   "source": [
    "# Train Word2Vec model"
   ]
  },
  {
   "cell_type": "code",
   "execution_count": 89,
   "metadata": {},
   "outputs": [],
   "source": [
    "def trainWord2Vec(path_bed_files, universeFile_path, numberofCores, numberofFiles, shuffle_repeat, window_size, dim, min_count):\n",
    "    # Read bed files \n",
    "    term_doc_matrix, segmentation_df = functions_readbedfiles.readFiles2Vector(path_bed_files, universeFile_path, numberofCores, numberofFiles)\n",
    "#     print(len(term_doc_matrix))\n",
    "    # convert term-doc matrix to Corpus\n",
    "    documents = functions_readbedfiles.convertMat2document(term_doc_matrix, segmentation_df)\n",
    "#     print((documents))\n",
    "    # Shuffle documents for training\n",
    "    shuffeled_documents = shuffling(documents, shuffle_repeat)\n",
    "\n",
    "    # Train word2Vec model\n",
    "    \n",
    "    model = Word2Vec(shuffeled_documents, window= window_size, size = dim, min_count=min_count)\n",
    "    \n",
    "    return model\n"
   ]
  },
  {
   "cell_type": "markdown",
   "metadata": {},
   "source": [
    "# RegionSet2vec Representation"
   ]
  },
  {
   "cell_type": "code",
   "execution_count": 90,
   "metadata": {},
   "outputs": [],
   "source": [
    "def embedding_avg(model, document):\n",
    "    listOfWVs= []\n",
    "    for word in document.split(' '):\n",
    "        if word in model.wv.vocab:\n",
    "            listOfWVs.append(model[word])\n",
    "            \n",
    "    if(len(listOfWVs) == 0):\n",
    "#         print('hi')\n",
    "        return np.zeros([100])\n",
    "    return np.mean(listOfWVs, axis=0)\n",
    "\n",
    "def document_embedding_avg(document_Embedding, model):\n",
    "    document_Embedding_avg = {}\n",
    "    for file, doc  in document_Embedding.items():\n",
    "        document_Embedding_avg[file] = embedding_avg(model, doc)\n",
    "    return document_Embedding_avg\n",
    "    "
   ]
  },
  {
   "cell_type": "code",
   "execution_count": 91,
   "metadata": {},
   "outputs": [],
   "source": [
    "# Data path\n",
    "path_bed_files = \"./datasets/antibodydataset/test/*\"\n",
    "\n",
    "# Universe path\n",
    "universeFile_path = \"./representations/antibody/antibody_feature_1.0_atlas.bed\""
   ]
  },
  {
   "cell_type": "code",
   "execution_count": 93,
   "metadata": {},
   "outputs": [],
   "source": [
    "# Parameters \n",
    "numberofCores = 1\n",
    "numberofFiles = 100\n",
    "window_size = 8\n",
    "dim = 10\n",
    "min_count = 100\n",
    "shuffle_repeat = 100"
   ]
  },
  {
   "cell_type": "code",
   "execution_count": 94,
   "metadata": {},
   "outputs": [
    {
     "name": "stdout",
     "output_type": "stream",
     "text": [
      "Reading universe file: Done 2020-10-21 02:23:05.614220\n",
      "Reading bed files: Done 2020-10-21 02:23:06.492368\n",
      "Converting to matrix: Done 2020-10-21 02:23:06.493561\n"
     ]
    }
   ],
   "source": [
    "model = trainWord2Vec(path_bed_files, universeFile_path, numberofCores, numberofFiles, shuffle_repeat, window_size, dim, min_count)\n"
   ]
  },
  {
   "cell_type": "code",
   "execution_count": 95,
   "metadata": {},
   "outputs": [],
   "source": [
    "model.save('./word2vecmodels/model_window{}_size{}_mincount{}_shuffle{}'.format(window_size, dim, min_count, shuffle_repeat))"
   ]
  },
  {
   "cell_type": "code",
   "execution_count": null,
   "metadata": {},
   "outputs": [],
   "source": []
  }
 ],
 "metadata": {
  "kernelspec": {
   "display_name": "Python 3",
   "language": "python",
   "name": "python3"
  },
  "language_info": {
   "codemirror_mode": {
    "name": "ipython",
    "version": 3
   },
   "file_extension": ".py",
   "mimetype": "text/x-python",
   "name": "python",
   "nbconvert_exporter": "python",
   "pygments_lexer": "ipython3",
   "version": "3.7.3"
  }
 },
 "nbformat": 4,
 "nbformat_minor": 4
}
